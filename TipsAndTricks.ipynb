{
  "cells": [
    {
      "cell_type": "markdown",
      "id": "bfe0f2cc-99d8-4c7d-bc52-fa414504636e",
      "metadata": {
        "nteract": {
          "transient": {
            "deleting": false
          }
        }
      },
      "source": "# Feature #1: Import custom NuGet or PyPI packages\r\n### C#: Use the syntax: ``#r \"nuget: PackageName, OptionalVersionNumber\"``. \r\n"
    },
    {
      "cell_type": "code",
      "execution_count": 10,
      "id": "affda409-13ac-49e8-9e6f-0bbc00fdeb76",
      "metadata": {
        "collapsed": true,
        "execution": {
          "iopub.status.busy": "2021-02-18T16:12:13.196Z",
          "iopub.status.idle": "2021-02-18T16:12:13.330Z",
          "shell.execute_reply": "2021-02-18T16:12:13.382Z"
        },
        "jupyter": {
          "outputs_hidden": false,
          "source_hidden": false
        },
        "nteract": {
          "transient": {
            "deleting": false
          }
        },
        "trusted": true
      },
      "outputs": [
        {
          "data": {},
          "execution_count": 10,
          "metadata": {},
          "output_type": "execute_result"
        }
      ],
      "source": "#r \"nuget: Bogus\"\r\n#r \"nuget: System.Linq\"\r\n#r \"nuget: System.Linq.Expressions\""
    },
    {
      "cell_type": "markdown",
      "id": "bd09787d-0e07-4dcd-861b-3ef34ebed11a",
      "metadata": {
        "nteract": {
          "transient": {
            "deleting": false
          }
        }
      },
      "source": "### Python: Use pip install"
    },
    {
      "cell_type": "code",
      "execution_count": null,
      "id": "5289a188-c7c0-4e3b-bc59-3acaa1289412",
      "metadata": {
        "collapsed": true,
        "execution": {
          "iopub.status.busy": "2021-02-18T15:52:37.899Z",
          "iopub.status.idle": "2021-02-18T15:52:37.923Z",
          "shell.execute_reply": "2021-02-18T15:52:37.931Z"
        },
        "jupyter": {
          "outputs_hidden": false,
          "source_hidden": false
        },
        "nteract": {
          "transient": {
            "deleting": false
          }
        },
        "trusted": true
      },
      "outputs": [],
      "source": "// import sys\r\n// !{sys.executable} -m pip install bokeh==1.4.0 --user"
    },
    {
      "cell_type": "markdown",
      "id": "2febf13b-c3b0-4bc7-a01c-695cd7d59ed4",
      "metadata": {
        "nteract": {
          "transient": {
            "deleting": false
          }
        }
      },
      "source": "# Feature #2: Use built-in Cosmos SDK"
    },
    {
      "cell_type": "code",
      "execution_count": 4,
      "id": "233d0e9f-2eae-40de-a98c-791a7c9991d5",
      "metadata": {
        "collapsed": true,
        "execution": {
          "iopub.execute_input": "2021-02-18T16:13:47.686Z",
          "iopub.status.busy": "2021-02-18T16:13:47.428Z",
          "iopub.status.idle": "2021-02-18T16:13:47.757Z",
          "shell.execute_reply": "2021-02-18T16:13:47.782Z"
        },
        "jupyter": {
          "outputs_hidden": false,
          "source_hidden": false
        },
        "nteract": {
          "transient": {
            "deleting": false
          }
        },
        "trusted": true
      },
      "outputs": [
        {
          "data": {},
          "execution_count": 12,
          "metadata": {},
          "output_type": "execute_result"
        },
        {
          "data": {
            "text/markdown": "\nCreated database CosmosIOTDemo and container VehicleData. You can see these new resources by refreshing your resource pane under the Data section.\n",
            "text/plain": "<IPython.core.display.Markdown object>"
          },
          "metadata": {},
          "output_type": "display_data"
        }
      ],
      "source": "using System;\r\nusing Microsoft.Azure.Cosmos;\r\nusing System.Collections;\r\n\r\n// Initialize a new instance of CosmosClient using the built-in account endpoint and key parameters\r\nCosmosClient cosmosClient = new CosmosClient(Cosmos.Endpoint, Cosmos.Key);\r\n\r\n// Create a new database and a new container\r\nMicrosoft.Azure.Cosmos.Database database = await cosmosClient.CreateDatabaseIfNotExistsAsync(\"CosmosIOTDemo\");\r\nContainer container = await database.CreateContainerIfNotExistsAsync(\"VehicleData\", \"/vin\");\r\n\r\nDisplay.AsMarkdown(@\"\r\nCreated database CosmosIOTDemo and container VehicleData. You can see these new resources by refreshing your resource pane under the Data section.\r\n\");"
    },
    {
      "cell_type": "markdown",
      "id": "53f1a9e7-e30b-4212-a8dd-b88df8fed31b",
      "metadata": {
        "nteract": {
          "transient": {
            "deleting": false
          }
        }
      },
      "source": "### Tip: Want to try out custom CosmosClient options?"
    },
    {
      "cell_type": "code",
      "execution_count": 13,
      "id": "cdd85136-96e9-41a8-a652-1c48a0bc18d6",
      "metadata": {
        "collapsed": true,
        "execution": {
          "iopub.status.busy": "2021-02-18T16:14:54.131Z",
          "iopub.status.idle": "2021-02-18T16:14:54.162Z",
          "shell.execute_reply": "2021-02-18T16:14:54.178Z"
        },
        "jupyter": {
          "outputs_hidden": false,
          "source_hidden": false
        },
        "nteract": {
          "transient": {
            "deleting": false
          }
        },
        "trusted": true
      },
      "outputs": [
        {
          "data": {},
          "execution_count": 13,
          "metadata": {},
          "output_type": "execute_result"
        }
      ],
      "source": "using Microsoft.Azure.Cosmos;\r\n\r\n// Configure CosmosClientOptions\r\nvar cosmosClientOptions = new CosmosClientOptions\r\n{\r\n    ApplicationName = \"ContosoNotebookAppName\",\r\n    ApplicationRegion = Regions.WestUS2, // By default, this is the region you first created your account in\r\n    MaxRetryAttemptsOnRateLimitedRequests = 9, // By default, this value is 9\r\n};\r\n\r\nvar client = new CosmosClient(Cosmos.Endpoint, Cosmos.Key, cosmosClientOptions);"
    },
    {
      "cell_type": "markdown",
      "id": "5e07298c-8c62-460a-b78f-1c3422fbd99d",
      "metadata": {
        "nteract": {
          "transient": {
            "deleting": false
          }
        }
      },
      "source": "### Tip: Use built-in variable display"
    },
    {
      "cell_type": "code",
      "execution_count": 14,
      "id": "bed0598d-bc0e-47bb-9eff-28f0616a67be",
      "metadata": {
        "collapsed": true,
        "execution": {
          "iopub.status.busy": "2021-02-18T16:15:18.066Z",
          "iopub.status.idle": "2021-02-18T16:15:18.114Z",
          "shell.execute_reply": "2021-02-18T16:15:18.126Z"
        },
        "jupyter": {
          "outputs_hidden": false,
          "source_hidden": false
        },
        "nteract": {
          "transient": {
            "deleting": false
          }
        },
        "trusted": true
      },
      "outputs": [
        {
          "data": {
            "application/json": {
              "data": {
                "AllowBulkExecution": false,
                "ApplicationName": "ContosoNotebookAppName",
                "ApplicationPreferredRegions": null,
                "ApplicationRegion": "West US 2",
                "ConnectionMode": 1,
                "ConsistencyLevel": null,
                "CustomHandlers": "",
                "EnableTcpConnectionEndpointRediscovery": false,
                "GatewayModeMaxConnectionLimit": 50,
                "IdleTcpConnectionTimeout": null,
                "LimitToEndpoint": false,
                "MaxRequestsPerTcpConnection": null,
                "MaxRetryAttemptsOnRateLimitedRequests": 9,
                "MaxRetryWaitTimeOnRateLimitedRequests": null,
                "MaxTcpConnectionsPerEndpoint": null,
                "OpenTcpConnectionTimeout": null,
                "PortReuseMode": null,
                "RequestTimeout": "00:00:10",
                "Serializer": null,
                "SerializerOptions": null
              }
            },
            "text/plain": "Microsoft.Azure.Cosmos.CosmosClientOptions"
          },
          "execution_count": 14,
          "metadata": {},
          "output_type": "execute_result"
        }
      ],
      "source": "cosmosClientOptions"
    },
    {
      "cell_type": "markdown",
      "id": "75329167-03a2-4613-bef5-e389dc400e2d",
      "metadata": {
        "nteract": {
          "transient": {
            "deleting": false
          }
        }
      },
      "source": "# Feature #3: Upload JSON file into a container"
    },
    {
      "cell_type": "code",
      "execution_count": 15,
      "id": "f525f89f-8230-4720-9a3a-24d1d94dbcd7",
      "metadata": {
        "collapsed": true,
        "execution": {
          "iopub.status.busy": "2021-02-18T16:16:17.417Z",
          "iopub.status.idle": "2021-02-18T16:16:22.893Z",
          "shell.execute_reply": "2021-02-18T16:16:22.901Z"
        },
        "jupyter": {
          "outputs_hidden": false,
          "source_hidden": false
        },
        "nteract": {
          "transient": {
            "deleting": false
          }
        },
        "trusted": true
      },
      "outputs": [
        {
          "data": {
            "text/html": "\r\n<span style='color:#0078D4'>\r\nDocuments successfully uploaded to WebsiteData <br/>\r\nTotal number of documents imported:<br/>\r\n&nbsp;&nbsp;Success: <b>2654</b> <br/>\r\n&nbsp;&nbsp;Failure: <b>0</b> <br/>\r\nTotal time taken : <b>00:00:05</b> hours <br/>\r\nTotal RUs consumed : <b>27309.660000001593</b> <br/>\r\n<br/>\r\n</span>\r\n"
          },
          "metadata": {},
          "output_type": "display_data"
        }
      ],
      "source": "%%upload --databaseName RetailDemo --containerName WebsiteData --url https://cosmosnotebooksdata.blob.core.windows.net/notebookdata/websiteData.json"
    },
    {
      "cell_type": "markdown",
      "id": "e4427221-9d89-42c8-8791-450fc83af5a1",
      "metadata": {
        "nteract": {
          "transient": {
            "deleting": false
          }
        }
      },
      "source": "# Feature #4: Use built-in visualizations"
    },
    {
      "cell_type": "markdown",
      "id": "b8cda1bc-9cbb-4e0d-8553-c77af4e77ea8",
      "metadata": {
        "nteract": {
          "transient": {
            "deleting": false
          }
        }
      },
      "source": "### Represent data type with C# class"
    },
    {
      "cell_type": "code",
      "execution_count": null,
      "id": "ec410f34-08ed-4ebd-8700-059bf33dc311",
      "metadata": {
        "collapsed": true,
        "execution": {
          "iopub.status.busy": "2021-02-18T15:52:43.753Z",
          "iopub.status.idle": "2021-02-18T15:52:43.772Z",
          "shell.execute_reply": "2021-02-18T15:52:43.781Z"
        },
        "jupyter": {
          "outputs_hidden": false,
          "source_hidden": false
        },
        "nteract": {
          "transient": {
            "deleting": false
          }
        },
        "trusted": true
      },
      "outputs": [],
      "source": "using System;\r\n\r\nclass TelemetryEvent\r\n{\r\n    public string id { get; set; }\r\n    \r\n    public string vin { get; set; }\r\n\r\n    public string eventName { get; set; }\r\n\r\n    public string vehicleType { get; set; }\r\n        \r\n    public string fuelType {get; set; }    \r\n\r\n    public double s1 { get; set; }\r\n\r\n    public double s2 { get; set; }\r\n\r\n    public double s3 { get; set; }\r\n\r\n    public DateTime timestamp { get; set; }\r\n\r\n    public string date { get; set; }\r\n\r\n    public string region { get; set; }\r\n\r\n}"
    },
    {
      "cell_type": "markdown",
      "id": "034ade13-7030-449e-a421-c47db1ad9120",
      "metadata": {
        "nteract": {
          "transient": {
            "deleting": false
          }
        }
      },
      "source": "### Generate and write sample data"
    },
    {
      "cell_type": "code",
      "execution_count": 5,
      "id": "323b6a1a-7ad7-4c61-8219-ece996073347",
      "metadata": {
        "collapsed": true,
        "execution": {
          "iopub.execute_input": "2021-02-18T16:18:57.095Z",
          "iopub.status.busy": "2021-02-18T16:18:57.025Z",
          "iopub.status.idle": "2021-02-18T16:18:57.152Z",
          "shell.execute_reply": "2021-02-18T16:18:57.184Z"
        },
        "jupyter": {
          "outputs_hidden": false,
          "source_hidden": false
        },
        "nteract": {
          "transient": {
            "deleting": false
          }
        },
        "trusted": true
      },
      "outputs": [
        {
          "data": {},
          "execution_count": 16,
          "metadata": {},
          "output_type": "execute_result"
        },
        {
          "data": {
            "text/markdown": "\nCreated 100 items in VehicleData container. \n",
            "text/plain": "<IPython.core.display.Markdown object>"
          },
          "metadata": {},
          "output_type": "display_data"
        }
      ],
      "source": "using System.Linq;\r\nusing System.Collections.Generic;\r\nusing System.Linq.Expressions;\r\nusing System;\r\nusing Bogus;\r\n\r\nstatic List<TelemetryEvent> GenerateTelemetryEvents(int numberOfEventsToGenerate)\r\n{\r\n    var eventTypes = new string[] { \"Harsh_break\", \"Airbag_deploy\", \"Check_engine_light\" };\r\n\r\n    var faker = new Faker();\r\n    \r\n    var vinList = Enumerable.Range(1, 10) //Generate 10 different vehicle ids\r\n    .Select(_ => _.ToString())\r\n    .ToList();\r\n    \r\n    var telemetryEvent = new Faker<TelemetryEvent>()\r\n    .StrictMode(true)\r\n    //Generate telemetry event\r\n    .RuleFor(o => o.id, f => Guid.NewGuid().ToString())\r\n    .RuleFor(o => o.vin, f => f.PickRandom(vinList))\r\n    .RuleFor(o => o.eventName, f => f.PickRandom(eventTypes))\r\n    .RuleFor(o => o.vehicleType, f => f.Vehicle.Type())\r\n    .RuleFor(o => o.fuelType, f => f.Vehicle.Fuel())\r\n    .RuleFor(o => o.timestamp, f => DateTime.Now) // just today's date\r\n    .RuleFor(o => o.date, (f, m) => $\"{m.timestamp.ToString(\"yyyy-MM-dd\")}\")\r\n    .RuleFor(o => o.s1, f => f.Random.Double(1, 2000))\r\n    .RuleFor(o => o.s2, f => f.Random.Double(1, 2000))\r\n    .RuleFor(o => o.s3, f => f.Random.Double(1, 2000))\r\n    .RuleFor(o => o.region, f => f.Address.Country());\r\n    \r\n    var events = telemetryEvent.Generate(numberOfEventsToGenerate);\r\n       \r\n    return events;\r\n\r\n}\r\n\r\nvar telemetryEvents = GenerateTelemetryEvents(100);\r\n\r\nforeach (TelemetryEvent telemetryEvent in telemetryEvents)\r\n{\r\n    var itemResponse = await container.CreateItemAsync<TelemetryEvent>(telemetryEvent);\r\n}\r\n\r\nDisplay.AsMarkdown(@\"\r\nCreated 100 items in VehicleData container. \r\n\");\r\n"
    },
    {
      "cell_type": "markdown",
      "id": "933258db-acfc-442a-bf8f-23771f91f7e3",
      "metadata": {
        "nteract": {
          "transient": {
            "deleting": false
          }
        }
      },
      "source": "### Query and visualize data"
    },
    {
      "cell_type": "code",
      "execution_count": 18,
      "id": "c0200088-dcae-45ef-b442-69720a9ad98c",
      "metadata": {
        "collapsed": true,
        "execution": {
          "iopub.status.busy": "2021-02-18T16:22:13.304Z",
          "iopub.status.idle": "2021-02-18T16:22:13.425Z",
          "shell.execute_reply": "2021-02-18T16:22:13.434Z"
        },
        "jupyter": {
          "outputs_hidden": false,
          "source_hidden": false
        },
        "nteract": {
          "transient": {
            "deleting": false
          }
        },
        "trusted": true
      },
      "outputs": [
        {
          "data": {
            "application/vnd.dataresource+json": {
              "data": [
                {
                  "date": "2021-02-18",
                  "eventName": "Airbag_deploy",
                  "fuelType": "Diesel",
                  "id": "f079c460-13a9-4c90-bbd8-16a2b5b0e696",
                  "index": 0,
                  "region": "Cambodia",
                  "s1": 1325.6459690978033,
                  "s2": 1268.4688995315084,
                  "s3": 666.1747419653343,
                  "timestamp": "2021-02-18T05:51:17.5737755+00:00",
                  "vehicleType": "Coupe",
                  "vin": "8"
                },
                {
                  "date": "2021-02-18",
                  "eventName": "Check_engine_light",
                  "fuelType": "Diesel",
                  "id": "da4bebd4-9595-4dd0-aef6-55bba43f71b4",
                  "index": 1,
                  "region": "French Polynesia",
                  "s1": 1135.681926207469,
                  "s2": 551.7181787848092,
                  "s3": 564.6222311563894,
                  "timestamp": "2021-02-18T05:51:17.57378+00:00",
                  "vehicleType": "Crew Cab Pickup",
                  "vin": "8"
                },
                {
                  "date": "2021-02-18",
                  "eventName": "Check_engine_light",
                  "fuelType": "Gasoline",
                  "id": "997d7d5d-3324-46f0-b363-a018600ae903",
                  "index": 2,
                  "region": "Albania",
                  "s1": 205.99223720142257,
                  "s2": 1008.1939340569982,
                  "s3": 590.2229651814434,
                  "timestamp": "2021-02-18T05:51:17.5738065+00:00",
                  "vehicleType": "Cargo Van",
                  "vin": "8"
                },
                {
                  "date": "2021-02-18",
                  "eventName": "Harsh_break",
                  "fuelType": "Hybrid",
                  "id": "e48bd1d4-260a-4674-a4ce-c1d65f24bf6d",
                  "index": 3,
                  "region": "Azerbaijan",
                  "s1": 587.0684688943757,
                  "s2": 666.4995691396759,
                  "s3": 1360.9944486906727,
                  "timestamp": "2021-02-18T05:51:17.5738176+00:00",
                  "vehicleType": "Hatchback",
                  "vin": "8"
                },
                {
                  "date": "2021-02-18",
                  "eventName": "Harsh_break",
                  "fuelType": "Diesel",
                  "id": "85eb0948-f141-485f-be51-a0cfb7e153bb",
                  "index": 4,
                  "region": "Djibouti",
                  "s1": 1329.6594033626186,
                  "s2": 433.2858503261981,
                  "s3": 342.1365712523165,
                  "timestamp": "2021-02-18T05:51:17.5738743+00:00",
                  "vehicleType": "Extended Cab Pickup",
                  "vin": "8"
                },
                {
                  "date": "2021-02-18",
                  "eventName": "Airbag_deploy",
                  "fuelType": "Diesel",
                  "id": "383a32ca-bec6-4f8f-bfbf-5f9c90ef2f21",
                  "index": 5,
                  "region": "Norfolk Island",
                  "s1": 1758.744200593207,
                  "s2": 1187.9065949697545,
                  "s3": 768.4305077257708,
                  "timestamp": "2021-02-18T05:51:17.5738847+00:00",
                  "vehicleType": "SUV",
                  "vin": "8"
                },
                {
                  "date": "2021-02-18",
                  "eventName": "Check_engine_light",
                  "fuelType": "Electric",
                  "id": "1146fb97-74db-48dd-9336-e28896a26a91",
                  "index": 6,
                  "region": "Virgin Islands, British",
                  "s1": 141.79119224324413,
                  "s2": 826.8399443453364,
                  "s3": 503.554100567733,
                  "timestamp": "2021-02-18T05:51:17.5739065+00:00",
                  "vehicleType": "SUV",
                  "vin": "8"
                },
                {
                  "date": "2021-02-18",
                  "eventName": "Check_engine_light",
                  "fuelType": "Gasoline",
                  "id": "05d93ed6-105d-4f71-8ad5-6c7fe3b6e15d",
                  "index": 7,
                  "region": "Chile",
                  "s1": 89.46883284043,
                  "s2": 911.7797031457442,
                  "s3": 480.4267734430855,
                  "timestamp": "2021-02-18T05:51:17.5740266+00:00",
                  "vehicleType": "Coupe",
                  "vin": "8"
                },
                {
                  "date": "2021-02-18",
                  "eventName": "Check_engine_light",
                  "fuelType": "Gasoline",
                  "id": "8cfe3658-0046-4d38-aa46-88af2af63627",
                  "index": 8,
                  "region": "Montserrat",
                  "s1": 1488.9231075732612,
                  "s2": 830.0102884713609,
                  "s3": 1226.443489413915,
                  "timestamp": "2021-02-18T05:51:17.5740653+00:00",
                  "vehicleType": "Minivan",
                  "vin": "8"
                },
                {
                  "date": "2021-02-18",
                  "eventName": "Check_engine_light",
                  "fuelType": "Electric",
                  "id": "63e0d7a3-cd38-4f89-b64b-26f1575cb7af",
                  "index": 9,
                  "region": "Bolivia",
                  "s1": 128.14484571206611,
                  "s2": 1509.8036402588725,
                  "s3": 621.4712769857008,
                  "timestamp": "2021-02-18T05:51:17.5740843+00:00",
                  "vehicleType": "Cargo Van",
                  "vin": "8"
                },
                {
                  "date": "2021-02-18",
                  "eventName": "Airbag_deploy",
                  "fuelType": "Gasoline",
                  "id": "e0192879-2c8f-4738-b425-78c566721b9b",
                  "index": 10,
                  "region": "Democratic People's Republic of Korea",
                  "s1": 498.5514865492244,
                  "s2": 1082.1291927160364,
                  "s3": 328.3658389660371,
                  "timestamp": "2021-02-18T05:52:00.3402737+00:00",
                  "vehicleType": "Passenger Van",
                  "vin": "8"
                },
                {
                  "date": "2021-02-18",
                  "eventName": "Check_engine_light",
                  "fuelType": "Electric",
                  "id": "6ddc1dad-10e1-48c8-afea-dcaa6b79b5b5",
                  "index": 11,
                  "region": "Uganda",
                  "s1": 323.0437380993011,
                  "s2": 869.7224744771246,
                  "s3": 683.2448109436058,
                  "timestamp": "2021-02-18T05:52:00.3403057+00:00",
                  "vehicleType": "Hatchback",
                  "vin": "8"
                },
                {
                  "date": "2021-02-18",
                  "eventName": "Airbag_deploy",
                  "fuelType": "Electric",
                  "id": "f357e434-a835-4a1a-9adf-5478867f4611",
                  "index": 12,
                  "region": "Lithuania",
                  "s1": 1699.911819826305,
                  "s2": 1037.3823321179405,
                  "s3": 8.480368020702326,
                  "timestamp": "2021-02-18T05:52:00.3404695+00:00",
                  "vehicleType": "Extended Cab Pickup",
                  "vin": "8"
                },
                {
                  "date": "2021-02-18",
                  "eventName": "Airbag_deploy",
                  "fuelType": "Diesel",
                  "id": "9af34061-8b50-40cf-a2ba-78fa5b1b7242",
                  "index": 13,
                  "region": "Iceland",
                  "s1": 1988.9993200954045,
                  "s2": 856.01468487364,
                  "s3": 660.5502922570101,
                  "timestamp": "2021-02-18T05:52:00.3404882+00:00",
                  "vehicleType": "Wagon",
                  "vin": "8"
                },
                {
                  "date": "2021-02-18",
                  "eventName": "Check_engine_light",
                  "fuelType": "Gasoline",
                  "id": "dca9dd24-8341-4c13-a15e-0f956f032264",
                  "index": 14,
                  "region": "Slovenia",
                  "s1": 1125.7396166509668,
                  "s2": 447.24786253797254,
                  "s3": 1308.1550373682542,
                  "timestamp": "2021-02-18T05:52:00.3405202+00:00",
                  "vehicleType": "Extended Cab Pickup",
                  "vin": "8"
                },
                {
                  "date": "2021-02-18",
                  "eventName": "Check_engine_light",
                  "fuelType": "Electric",
                  "id": "3bcc18b2-d212-4ede-961d-13071ef5c9c3",
                  "index": 15,
                  "region": "Mongolia",
                  "s1": 621.5188400505665,
                  "s2": 900.8991298470177,
                  "s3": 986.6312396375607,
                  "timestamp": "2021-02-18T05:52:00.3405665+00:00",
                  "vehicleType": "Hatchback",
                  "vin": "8"
                },
                {
                  "date": "2021-02-18",
                  "eventName": "Harsh_break",
                  "fuelType": "Hybrid",
                  "id": "2fdefa4a-90fe-4b7a-9f38-4c103355199d",
                  "index": 16,
                  "region": "Azerbaijan",
                  "s1": 48.083101077975286,
                  "s2": 715.6664744036582,
                  "s3": 651.9977567270387,
                  "timestamp": "2021-02-18T05:52:00.3405711+00:00",
                  "vehicleType": "Hatchback",
                  "vin": "8"
                },
                {
                  "date": "2021-02-18",
                  "eventName": "Check_engine_light",
                  "fuelType": "Electric",
                  "id": "82a2fd0e-bced-4b07-8429-01c48147a4bf",
                  "index": 17,
                  "region": "Niue",
                  "s1": 9.15438568738959,
                  "s2": 1251.3688020400557,
                  "s3": 1974.6133481714005,
                  "timestamp": "2021-02-18T05:52:00.3406299+00:00",
                  "vehicleType": "Minivan",
                  "vin": "8"
                },
                {
                  "date": "2021-02-18",
                  "eventName": "Airbag_deploy",
                  "fuelType": "Gasoline",
                  "id": "5cbad8c7-e718-41a4-8955-87a8cbb84b3c",
                  "index": 18,
                  "region": "Chile",
                  "s1": 1346.1458036462523,
                  "s2": 738.8342668092038,
                  "s3": 555.3602932958679,
                  "timestamp": "2021-02-18T07:44:45.6219788+00:00",
                  "vehicleType": "Coupe",
                  "vin": "8"
                },
                {
                  "date": "2021-02-18",
                  "eventName": "Airbag_deploy",
                  "fuelType": "Electric",
                  "id": "2f4e40cd-c48a-4728-bca3-28fc1d1e13a0",
                  "index": 19,
                  "region": "Panama",
                  "s1": 165.21745754974776,
                  "s2": 1301.8531751580786,
                  "s3": 1515.1262140009208,
                  "timestamp": "2021-02-18T07:44:45.6220221+00:00",
                  "vehicleType": "Crew Cab Pickup",
                  "vin": "8"
                },
                {
                  "date": "2021-02-18",
                  "eventName": "Harsh_break",
                  "fuelType": "Electric",
                  "id": "284af84b-5050-4688-8604-d86dfdf81a77",
                  "index": 20,
                  "region": "Albania",
                  "s1": 132.86706235672676,
                  "s2": 138.03756758991517,
                  "s3": 159.68140294481134,
                  "timestamp": "2021-02-18T07:44:45.6221161+00:00",
                  "vehicleType": "Passenger Van",
                  "vin": "8"
                },
                {
                  "date": "2021-02-18",
                  "eventName": "Harsh_break",
                  "fuelType": "Gasoline",
                  "id": "88153cd7-d98c-49e0-a1d3-3be72ca53ddd",
                  "index": 21,
                  "region": "Mozambique",
                  "s1": 940.7788598578325,
                  "s2": 257.2640249753669,
                  "s3": 1396.3403284001818,
                  "timestamp": "2021-02-18T07:44:45.6221997+00:00",
                  "vehicleType": "SUV",
                  "vin": "8"
                },
                {
                  "date": "2021-02-18",
                  "eventName": "Check_engine_light",
                  "fuelType": "Gasoline",
                  "id": "f37f0154-5b84-4fc0-b1ca-d313498b3a1e",
                  "index": 22,
                  "region": "Italy",
                  "s1": 1799.0756298522817,
                  "s2": 1868.6709794554258,
                  "s3": 295.7548783057159,
                  "timestamp": "2021-02-18T07:44:45.6222293+00:00",
                  "vehicleType": "Sedan",
                  "vin": "8"
                },
                {
                  "date": "2021-02-18",
                  "eventName": "Harsh_break",
                  "fuelType": "Electric",
                  "id": "a2205984-40f6-4769-ab48-13c1537bfbbe",
                  "index": 23,
                  "region": "Lesotho",
                  "s1": 1636.0829323931052,
                  "s2": 851.1161108706686,
                  "s3": 1130.2460588013037,
                  "timestamp": "2021-02-18T07:44:45.6222528+00:00",
                  "vehicleType": "Sedan",
                  "vin": "8"
                },
                {
                  "date": "2021-02-18",
                  "eventName": "Harsh_break",
                  "fuelType": "Diesel",
                  "id": "58bacb5a-d577-402a-a8a7-9f73a29795af",
                  "index": 24,
                  "region": "Comoros",
                  "s1": 982.2592374278507,
                  "s2": 1061.4731082494711,
                  "s3": 200.98994246683546,
                  "timestamp": "2021-02-18T07:44:45.6223631+00:00",
                  "vehicleType": "Hatchback",
                  "vin": "8"
                },
                {
                  "date": "2021-02-18",
                  "eventName": "Airbag_deploy",
                  "fuelType": "Diesel",
                  "id": "d59ea329-275c-4adb-b388-e977cee20717",
                  "index": 25,
                  "region": "Cocos (Keeling) Islands",
                  "s1": 1924.276764413005,
                  "s2": 862.4695743752968,
                  "s3": 156.7633536224083,
                  "timestamp": "2021-02-18T07:45:07.8627634+00:00",
                  "vehicleType": "Extended Cab Pickup",
                  "vin": "8"
                },
                {
                  "date": "2021-02-18",
                  "eventName": "Harsh_break",
                  "fuelType": "Hybrid",
                  "id": "ecbc9d60-de24-4aa9-a1dc-028e6e512a99",
                  "index": 26,
                  "region": "Libyan Arab Jamahiriya",
                  "s1": 37.1874581366719,
                  "s2": 57.6889384401445,
                  "s3": 1190.4192244570793,
                  "timestamp": "2021-02-18T07:45:07.8628324+00:00",
                  "vehicleType": "Hatchback",
                  "vin": "8"
                },
                {
                  "date": "2021-02-18",
                  "eventName": "Harsh_break",
                  "fuelType": "Electric",
                  "id": "94a9196b-e878-479b-a74d-2c713460a925",
                  "index": 27,
                  "region": "Saint Vincent and the Grenadines",
                  "s1": 310.0373780369001,
                  "s2": 644.6116491391377,
                  "s3": 24.758351303058838,
                  "timestamp": "2021-02-18T07:45:07.7920292+00:00",
                  "vehicleType": "Minivan",
                  "vin": "8"
                },
                {
                  "date": "2021-02-18",
                  "eventName": "Check_engine_light",
                  "fuelType": "Hybrid",
                  "id": "b5c8ec26-dff9-48d6-8614-95bd17885f5e",
                  "index": 28,
                  "region": "Benin",
                  "s1": 80.03973355704906,
                  "s2": 1126.5775377413154,
                  "s3": 635.6928418924532,
                  "timestamp": "2021-02-18T07:45:07.7920627+00:00",
                  "vehicleType": "Hatchback",
                  "vin": "8"
                },
                {
                  "date": "2021-02-18",
                  "eventName": "Airbag_deploy",
                  "fuelType": "Hybrid",
                  "id": "f4648550-19fb-445c-b985-236f384c4b89",
                  "index": 29,
                  "region": "Belarus",
                  "s1": 409.65886899766457,
                  "s2": 1442.4107735130988,
                  "s3": 196.04428385945235,
                  "timestamp": "2021-02-18T07:45:07.7920859+00:00",
                  "vehicleType": "Minivan",
                  "vin": "8"
                },
                {
                  "date": "2021-02-18",
                  "eventName": "Harsh_break",
                  "fuelType": "Electric",
                  "id": "93ebe6bb-7ac8-483c-9bc0-740fcea40bba",
                  "index": 30,
                  "region": "Madagascar",
                  "s1": 210.24131510138574,
                  "s2": 1985.485653599019,
                  "s3": 1672.5406657655446,
                  "timestamp": "2021-02-18T07:45:07.7920904+00:00",
                  "vehicleType": "Convertible",
                  "vin": "8"
                },
                {
                  "date": "2021-02-18",
                  "eventName": "Check_engine_light",
                  "fuelType": "Electric",
                  "id": "e7c9522d-9c1f-4283-8e43-cd0c3392df8e",
                  "index": 31,
                  "region": "Montserrat",
                  "s1": 53.40360273253341,
                  "s2": 1030.4725886939432,
                  "s3": 244.9351621227968,
                  "timestamp": "2021-02-18T07:45:07.7921129+00:00",
                  "vehicleType": "Hatchback",
                  "vin": "8"
                },
                {
                  "date": "2021-02-18",
                  "eventName": "Check_engine_light",
                  "fuelType": "Hybrid",
                  "id": "c35b1d8d-ade0-41de-8166-52ee91384044",
                  "index": 32,
                  "region": "Bangladesh",
                  "s1": 746.7788987847878,
                  "s2": 1670.4462628427177,
                  "s3": 1143.011557775555,
                  "timestamp": "2021-02-18T07:45:07.8630252+00:00",
                  "vehicleType": "Passenger Van",
                  "vin": "8"
                },
                {
                  "date": "2021-02-18",
                  "eventName": "Check_engine_light",
                  "fuelType": "Electric",
                  "id": "adcf7682-9381-4c60-9aec-efae7c80db16",
                  "index": 33,
                  "region": "Saint Kitts and Nevis",
                  "s1": 1548.9617308941492,
                  "s2": 1513.1568828747406,
                  "s3": 894.7073824245983,
                  "timestamp": "2021-02-18T07:45:07.8630428+00:00",
                  "vehicleType": "SUV",
                  "vin": "8"
                },
                {
                  "date": "2021-02-18",
                  "eventName": "Airbag_deploy",
                  "fuelType": "Electric",
                  "id": "16d7c47a-e1aa-4c7b-915b-45b527e34416",
                  "index": 34,
                  "region": "Israel",
                  "s1": 1626.0936266635981,
                  "s2": 911.3776753532596,
                  "s3": 99.75562740757859,
                  "timestamp": "2021-02-18T07:45:07.7921971+00:00",
                  "vehicleType": "Sedan",
                  "vin": "8"
                },
                {
                  "date": "2021-02-18",
                  "eventName": "Airbag_deploy",
                  "fuelType": "Diesel",
                  "id": "cb50941d-0d8c-4e17-9121-1ab48ac0a324",
                  "index": 35,
                  "region": "Uganda",
                  "s1": 775.0364520331083,
                  "s2": 1258.6222513474627,
                  "s3": 1818.95829323491,
                  "timestamp": "2021-02-18T07:45:07.8632794+00:00",
                  "vehicleType": "Crew Cab Pickup",
                  "vin": "8"
                },
                {
                  "date": "2021-02-18",
                  "eventName": "Airbag_deploy",
                  "fuelType": "Hybrid",
                  "id": "15415906-cbaf-48b4-ade1-a0334e9ffc9a",
                  "index": 36,
                  "region": "Sweden",
                  "s1": 501.5178287283135,
                  "s2": 414.06221874480235,
                  "s3": 237.56523468977082,
                  "timestamp": "2021-02-18T07:45:07.8633823+00:00",
                  "vehicleType": "SUV",
                  "vin": "8"
                },
                {
                  "date": "2021-02-18",
                  "eventName": "Check_engine_light",
                  "fuelType": "Electric",
                  "id": "192b82f8-73be-4f88-a077-dba5a4b2ae9d",
                  "index": 37,
                  "region": "Cambodia",
                  "s1": 353.9185435669117,
                  "s2": 50.444672967048675,
                  "s3": 1804.6401789182053,
                  "timestamp": "2021-02-18T07:45:07.8633923+00:00",
                  "vehicleType": "Hatchback",
                  "vin": "8"
                },
                {
                  "date": "2021-02-18",
                  "eventName": "Airbag_deploy",
                  "fuelType": "Diesel",
                  "id": "35d722f4-19f4-4f28-86ff-bd2a5b828b39",
                  "index": 38,
                  "region": "Ethiopia",
                  "s1": 977.230321116387,
                  "s2": 450.8723028688097,
                  "s3": 1192.1339615630611,
                  "timestamp": "2021-02-18T07:45:07.86345+00:00",
                  "vehicleType": "Cargo Van",
                  "vin": "8"
                },
                {
                  "date": "2021-02-18",
                  "eventName": "Check_engine_light",
                  "fuelType": "Gasoline",
                  "id": "197a25ac-266b-4c76-845e-21e4d98ba5bf",
                  "index": 39,
                  "region": "Bouvet Island (Bouvetoya)",
                  "s1": 341.1570547242449,
                  "s2": 1488.6619742832436,
                  "s3": 1164.361830647272,
                  "timestamp": "2021-02-18T07:45:07.792389+00:00",
                  "vehicleType": "Wagon",
                  "vin": "8"
                },
                {
                  "date": "2021-02-18",
                  "eventName": "Airbag_deploy",
                  "fuelType": "Electric",
                  "id": "26470892-83ae-4bd6-8200-73cdb320ef53",
                  "index": 40,
                  "region": "Belize",
                  "s1": 1413.586236249463,
                  "s2": 80.01223045867506,
                  "s3": 1038.2229201133468,
                  "timestamp": "2021-02-18T07:45:07.7923995+00:00",
                  "vehicleType": "SUV",
                  "vin": "8"
                },
                {
                  "date": "2021-02-18",
                  "eventName": "Harsh_break",
                  "fuelType": "Electric",
                  "id": "e4340a70-e1c5-4be9-befc-555ad922ab55",
                  "index": 41,
                  "region": "Saint Kitts and Nevis",
                  "s1": 54.75140628253641,
                  "s2": 1013.5862382904563,
                  "s3": 1484.0088756261434,
                  "timestamp": "2021-02-18T07:45:07.7924041+00:00",
                  "vehicleType": "Crew Cab Pickup",
                  "vin": "8"
                },
                {
                  "date": "2021-02-18",
                  "eventName": "Airbag_deploy",
                  "fuelType": "Electric",
                  "id": "f86aa51f-1a84-4798-b983-1d5eef2a9fa4",
                  "index": 42,
                  "region": "British Indian Ocean Territory (Chagos Archipelago)",
                  "s1": 809.1762269554548,
                  "s2": 1273.7581588354699,
                  "s3": 1863.6366502110086,
                  "timestamp": "2021-02-18T07:45:07.7924087+00:00",
                  "vehicleType": "Cargo Van",
                  "vin": "8"
                },
                {
                  "date": "2021-02-18",
                  "eventName": "Airbag_deploy",
                  "fuelType": "Diesel",
                  "id": "8af32618-4dbb-4962-af6d-fdebaf90e8b6",
                  "index": 43,
                  "region": "Kyrgyz Republic",
                  "s1": 1698.909378154161,
                  "s2": 1918.9445442007595,
                  "s3": 1974.5650674158544,
                  "timestamp": "2021-02-18T07:54:47.0508788+00:00",
                  "vehicleType": "Wagon",
                  "vin": "8"
                },
                {
                  "date": "2021-02-18",
                  "eventName": "Harsh_break",
                  "fuelType": "Diesel",
                  "id": "10292ab5-4359-4a0f-aa28-f51476be8e30",
                  "index": 44,
                  "region": "Romania",
                  "s1": 120.72377886191187,
                  "s2": 1637.7103262640117,
                  "s3": 1956.8698777537186,
                  "timestamp": "2021-02-18T07:54:47.0508899+00:00",
                  "vehicleType": "Wagon",
                  "vin": "8"
                },
                {
                  "date": "2021-02-18",
                  "eventName": "Airbag_deploy",
                  "fuelType": "Hybrid",
                  "id": "d6cebcda-0318-42cf-8ae7-a9eb134d8e37",
                  "index": 45,
                  "region": "Guinea",
                  "s1": 1825.461894478864,
                  "s2": 1942.122732416318,
                  "s3": 1878.7784928426977,
                  "timestamp": "2021-02-18T07:54:47.0509237+00:00",
                  "vehicleType": "Minivan",
                  "vin": "8"
                },
                {
                  "date": "2021-02-18",
                  "eventName": "Check_engine_light",
                  "fuelType": "Electric",
                  "id": "ff1f0f10-eee9-4af4-ad10-5545eeccfb28",
                  "index": 46,
                  "region": "Gibraltar",
                  "s1": 1397.3087453904138,
                  "s2": 843.1535059097938,
                  "s3": 1590.042755954453,
                  "timestamp": "2021-02-18T07:54:47.0509504+00:00",
                  "vehicleType": "Coupe",
                  "vin": "8"
                },
                {
                  "date": "2021-02-18",
                  "eventName": "Harsh_break",
                  "fuelType": "Gasoline",
                  "id": "079074fc-69af-4014-a15e-1f895790cd2d",
                  "index": 47,
                  "region": "Sierra Leone",
                  "s1": 1530.3026240041024,
                  "s2": 1232.278054937384,
                  "s3": 1606.627719091544,
                  "timestamp": "2021-02-18T07:54:47.0510394+00:00",
                  "vehicleType": "SUV",
                  "vin": "8"
                },
                {
                  "date": "2021-02-18",
                  "eventName": "Harsh_break",
                  "fuelType": "Diesel",
                  "id": "cf9396e1-96b7-4082-83a7-4496fb548c41",
                  "index": 48,
                  "region": "Czech Republic",
                  "s1": 1498.3204357793184,
                  "s2": 1437.57612610868,
                  "s3": 1073.1406279830917,
                  "timestamp": "2021-02-18T07:54:47.0510435+00:00",
                  "vehicleType": "Convertible",
                  "vin": "8"
                },
                {
                  "date": "2021-02-18",
                  "eventName": "Harsh_break",
                  "fuelType": "Hybrid",
                  "id": "90412873-1991-46f5-bb34-18978a00ef80",
                  "index": 49,
                  "region": "Peru",
                  "s1": 455.9211627896508,
                  "s2": 1796.8784268153265,
                  "s3": 124.92330911006933,
                  "timestamp": "2021-02-18T07:54:47.0510476+00:00",
                  "vehicleType": "Sedan",
                  "vin": "8"
                },
                {
                  "date": "2021-02-18",
                  "eventName": "Check_engine_light",
                  "fuelType": "Diesel",
                  "id": "9aeb0d00-09b5-415d-94d0-d60e79c7b705",
                  "index": 50,
                  "region": "Republic of Korea",
                  "s1": 1351.038287052437,
                  "s2": 656.1570990896585,
                  "s3": 1208.0093641239262,
                  "timestamp": "2021-02-18T07:54:47.0510519+00:00",
                  "vehicleType": "Wagon",
                  "vin": "8"
                },
                {
                  "date": "2021-02-18",
                  "eventName": "Check_engine_light",
                  "fuelType": "Electric",
                  "id": "eaa3b687-505b-4255-93f8-3dce11231ba1",
                  "index": 51,
                  "region": "Holy See (Vatican City State)",
                  "s1": 250.78387015535677,
                  "s2": 761.9370556147476,
                  "s3": 1538.8668659906214,
                  "timestamp": "2021-02-18T07:54:47.0511154+00:00",
                  "vehicleType": "Convertible",
                  "vin": "8"
                },
                {
                  "date": "2021-02-18",
                  "eventName": "Harsh_break",
                  "fuelType": "Hybrid",
                  "id": "60ecd6a1-e0ba-47ed-b262-94ae13a3d990",
                  "index": 52,
                  "region": "Cocos (Keeling) Islands",
                  "s1": 592.7120281642825,
                  "s2": 287.15955407598966,
                  "s3": 1334.3211627124442,
                  "timestamp": "2021-02-18T07:54:47.0512047+00:00",
                  "vehicleType": "Extended Cab Pickup",
                  "vin": "8"
                },
                {
                  "date": "2021-02-18",
                  "eventName": "Airbag_deploy",
                  "fuelType": "Electric",
                  "id": "a7d17c60-adee-4d08-923f-180106932303",
                  "index": 53,
                  "region": "Liberia",
                  "s1": 1652.934582312561,
                  "s2": 676.9697546199754,
                  "s3": 1706.9197537609934,
                  "timestamp": "2021-02-18T07:54:47.0512291+00:00",
                  "vehicleType": "Convertible",
                  "vin": "8"
                },
                {
                  "date": "2021-02-18",
                  "eventName": "Airbag_deploy",
                  "fuelType": "Electric",
                  "id": "3bdd4597-f057-40ff-a8fd-39d38f076161",
                  "index": 54,
                  "region": "Honduras",
                  "s1": 777.6255318679034,
                  "s2": 1159.2243056745383,
                  "s3": 1324.313464181178,
                  "timestamp": "2021-02-18T08:07:56.8346428+00:00",
                  "vehicleType": "Extended Cab Pickup",
                  "vin": "8"
                },
                {
                  "date": "2021-02-18",
                  "eventName": "Airbag_deploy",
                  "fuelType": "Electric",
                  "id": "23ab1155-bd52-478b-ae10-17192e49ffd3",
                  "index": 55,
                  "region": "Malawi",
                  "s1": 529.7065572090012,
                  "s2": 1956.2427687594868,
                  "s3": 1485.4149768829416,
                  "timestamp": "2021-02-18T08:07:56.8347558+00:00",
                  "vehicleType": "Wagon",
                  "vin": "8"
                },
                {
                  "date": "2021-02-18",
                  "eventName": "Airbag_deploy",
                  "fuelType": "Electric",
                  "id": "01c2441b-49ac-4d24-9c0b-7ebd6fc5c5de",
                  "index": 56,
                  "region": "Samoa",
                  "s1": 989.9866148466183,
                  "s2": 1314.5304884717475,
                  "s3": 1972.9157090452109,
                  "timestamp": "2021-02-18T08:07:56.8348334+00:00",
                  "vehicleType": "Crew Cab Pickup",
                  "vin": "8"
                },
                {
                  "date": "2021-02-18",
                  "eventName": "Check_engine_light",
                  "fuelType": "Hybrid",
                  "id": "75c9b52a-0df4-4653-ba45-d5cf3faa850e",
                  "index": 57,
                  "region": "Mongolia",
                  "s1": 205.63966490590929,
                  "s2": 1573.475976176316,
                  "s3": 560.16515514076,
                  "timestamp": "2021-02-18T15:52:44.1363718+00:00",
                  "vehicleType": "Cargo Van",
                  "vin": "8"
                },
                {
                  "date": "2021-02-18",
                  "eventName": "Harsh_break",
                  "fuelType": "Gasoline",
                  "id": "85418993-20cd-44da-b2f1-4f3460c8aa18",
                  "index": 58,
                  "region": "Nepal",
                  "s1": 434.42391319639233,
                  "s2": 532.5165843099899,
                  "s3": 679.8391108172196,
                  "timestamp": "2021-02-18T15:52:44.1364139+00:00",
                  "vehicleType": "Minivan",
                  "vin": "8"
                },
                {
                  "date": "2021-02-18",
                  "eventName": "Check_engine_light",
                  "fuelType": "Electric",
                  "id": "2b008c28-f41d-454a-b94c-21c1b98b880e",
                  "index": 59,
                  "region": "Nauru",
                  "s1": 1442.243859698178,
                  "s2": 324.2738859896892,
                  "s3": 384.3187237113336,
                  "timestamp": "2021-02-18T15:52:44.136425+00:00",
                  "vehicleType": "Wagon",
                  "vin": "8"
                },
                {
                  "date": "2021-02-18",
                  "eventName": "Check_engine_light",
                  "fuelType": "Gasoline",
                  "id": "0ab8e085-fbb0-4beb-bfed-791e3fe7ba28",
                  "index": 60,
                  "region": "Democratic People's Republic of Korea",
                  "s1": 670.0271351914979,
                  "s2": 1905.8416589306862,
                  "s3": 1084.8471115254085,
                  "timestamp": "2021-02-18T15:52:44.1364445+00:00",
                  "vehicleType": "Sedan",
                  "vin": "8"
                },
                {
                  "date": "2021-02-18",
                  "eventName": "Check_engine_light",
                  "fuelType": "Electric",
                  "id": "f47d6af3-3a40-45f1-a2ed-de549caed06e",
                  "index": 61,
                  "region": "Latvia",
                  "s1": 1259.8434658040496,
                  "s2": 522.7424684966646,
                  "s3": 1860.3723621435333,
                  "timestamp": "2021-02-18T15:52:44.1364831+00:00",
                  "vehicleType": "SUV",
                  "vin": "8"
                },
                {
                  "date": "2021-02-18",
                  "eventName": "Airbag_deploy",
                  "fuelType": "Gasoline",
                  "id": "d239024f-5da9-4b82-a3bc-624f4ee98b34",
                  "index": 62,
                  "region": "Kyrgyz Republic",
                  "s1": 1493.7497980127807,
                  "s2": 481.0216868892413,
                  "s3": 853.5838367513306,
                  "timestamp": "2021-02-18T15:52:44.1365004+00:00",
                  "vehicleType": "SUV",
                  "vin": "8"
                },
                {
                  "date": "2021-02-18",
                  "eventName": "Check_engine_light",
                  "fuelType": "Hybrid",
                  "id": "262481f6-6c4e-437f-85d1-4a06311761c4",
                  "index": 63,
                  "region": "Italy",
                  "s1": 1114.8025691941393,
                  "s2": 1120.6326330935733,
                  "s3": 860.7028172615463,
                  "timestamp": "2021-02-18T15:52:44.1367493+00:00",
                  "vehicleType": "Minivan",
                  "vin": "8"
                },
                {
                  "date": "2021-02-18",
                  "eventName": "Check_engine_light",
                  "fuelType": "Diesel",
                  "id": "27d38ccd-253a-401a-ac7c-bb7f9c3ff648",
                  "index": 64,
                  "region": "Nicaragua",
                  "s1": 230.63633609220216,
                  "s2": 346.9276024251839,
                  "s3": 1900.3944974375863,
                  "timestamp": "2021-02-18T15:52:44.1368472+00:00",
                  "vehicleType": "Coupe",
                  "vin": "8"
                },
                {
                  "date": "2021-02-18",
                  "eventName": "Airbag_deploy",
                  "fuelType": "Electric",
                  "id": "244eb3ae-2af8-4e65-bd6d-6611cb5f5060",
                  "index": 65,
                  "region": "American Samoa",
                  "s1": 950.4384625844837,
                  "s2": 219.88729380624707,
                  "s3": 1889.0873682666977,
                  "timestamp": "2021-02-18T15:52:44.1369097+00:00",
                  "vehicleType": "Wagon",
                  "vin": "8"
                },
                {
                  "date": "2021-02-18",
                  "eventName": "Airbag_deploy",
                  "fuelType": "Hybrid",
                  "id": "c60590c3-193c-4043-a8d7-223c7785ab71",
                  "index": 66,
                  "region": "American Samoa",
                  "s1": 131.5313971808792,
                  "s2": 268.812211645214,
                  "s3": 1882.330990966098,
                  "timestamp": "2021-02-18T15:52:44.1369138+00:00",
                  "vehicleType": "SUV",
                  "vin": "8"
                },
                {
                  "date": "2021-02-18",
                  "eventName": "Harsh_break",
                  "fuelType": "Gasoline",
                  "id": "e497e82d-a47f-47ca-b9f2-f577c5acf8f9",
                  "index": 67,
                  "region": "Spain",
                  "s1": 1014.4701269569201,
                  "s2": 1501.8205201424753,
                  "s3": 801.7593610625524,
                  "timestamp": "2021-02-18T15:52:44.1370034+00:00",
                  "vehicleType": "SUV",
                  "vin": "8"
                },
                {
                  "date": "2021-02-18",
                  "eventName": "Harsh_break",
                  "fuelType": "Hybrid",
                  "id": "1e88a11b-fbdb-4584-a117-77d9cfd59da9",
                  "index": 68,
                  "region": "Namibia",
                  "s1": 504.1207271339934,
                  "s2": 145.65833862063397,
                  "s3": 1585.8266452829478,
                  "timestamp": "2021-02-18T15:52:44.1370243+00:00",
                  "vehicleType": "Extended Cab Pickup",
                  "vin": "8"
                },
                {
                  "date": "2021-02-18",
                  "eventName": "Check_engine_light",
                  "fuelType": "Diesel",
                  "id": "9a35ff12-6d3c-4339-8329-0e8408aa5a63",
                  "index": 69,
                  "region": "Qatar",
                  "s1": 615.9430201691309,
                  "s2": 1127.4149422060768,
                  "s3": 1198.6651115173777,
                  "timestamp": "2021-02-18T16:18:56.0680529+00:00",
                  "vehicleType": "Cargo Van",
                  "vin": "8"
                },
                {
                  "date": "2021-02-18",
                  "eventName": "Harsh_break",
                  "fuelType": "Gasoline",
                  "id": "d547cc05-ea8d-464a-8baf-5a00f92a7b6f",
                  "index": 70,
                  "region": "Albania",
                  "s1": 238.50457077915993,
                  "s2": 615.8930415305742,
                  "s3": 1247.684138059469,
                  "timestamp": "2021-02-18T16:18:56.0690318+00:00",
                  "vehicleType": "Minivan",
                  "vin": "8"
                },
                {
                  "date": "2021-02-18",
                  "eventName": "Harsh_break",
                  "fuelType": "Diesel",
                  "id": "7660a761-38fd-41b8-a054-50038acfd011",
                  "index": 71,
                  "region": "South Georgia and the South Sandwich Islands",
                  "s1": 971.1965494208022,
                  "s2": 1252.4316795973255,
                  "s3": 1404.261827650602,
                  "timestamp": "2021-02-18T16:18:56.0693216+00:00",
                  "vehicleType": "Convertible",
                  "vin": "8"
                },
                {
                  "date": "2021-02-18",
                  "eventName": "Harsh_break",
                  "fuelType": "Hybrid",
                  "id": "a232fb7e-65fb-4bf8-b71f-1989f3a92b21",
                  "index": 72,
                  "region": "French Polynesia",
                  "s1": 266.6202651572508,
                  "s2": 232.10008904109714,
                  "s3": 1079.033383233954,
                  "timestamp": "2021-02-18T16:18:56.069469+00:00",
                  "vehicleType": "Sedan",
                  "vin": "8"
                },
                {
                  "date": "2021-02-18",
                  "eventName": "Check_engine_light",
                  "fuelType": "Gasoline",
                  "id": "b3b87a2a-48c6-493f-abb5-02a944625f00",
                  "index": 73,
                  "region": "Cyprus",
                  "s1": 356.7189437456983,
                  "s2": 189.01512917970078,
                  "s3": 1682.0708123594852,
                  "timestamp": "2021-02-18T16:18:56.0694788+00:00",
                  "vehicleType": "Cargo Van",
                  "vin": "8"
                },
                {
                  "date": "2021-02-18",
                  "eventName": "Airbag_deploy",
                  "fuelType": "Hybrid",
                  "id": "add69e44-c866-4c0c-b0e0-415d056da56a",
                  "index": 74,
                  "region": "Latvia",
                  "s1": 884.6621563968538,
                  "s2": 156.57308926180613,
                  "s3": 189.13672608748857,
                  "timestamp": "2021-02-18T16:18:56.0695678+00:00",
                  "vehicleType": "Passenger Van",
                  "vin": "8"
                }
              ],
              "schema": {
                "fields": [
                  {
                    "name": "index",
                    "type": "integer"
                  },
                  {
                    "name": "id",
                    "type": "string"
                  },
                  {
                    "name": "vin",
                    "type": "string"
                  },
                  {
                    "name": "eventName",
                    "type": "string"
                  },
                  {
                    "name": "vehicleType",
                    "type": "string"
                  },
                  {
                    "name": "fuelType",
                    "type": "string"
                  },
                  {
                    "name": "s1",
                    "type": "number"
                  },
                  {
                    "name": "s2",
                    "type": "number"
                  },
                  {
                    "name": "s3",
                    "type": "number"
                  },
                  {
                    "name": "timestamp",
                    "type": "string"
                  },
                  {
                    "name": "date",
                    "type": "string"
                  },
                  {
                    "name": "region",
                    "type": "string"
                  }
                ],
                "primaryKey": [
                  "index"
                ]
              }
            },
            "text/plain": "System.Collections.Generic.List`1[Submission#9+TelemetryEvent]"
          },
          "execution_count": 18,
          "metadata": {
            "application/vnd.dataresource+json": {
              "dx": {
                "areaType": "hexbin",
                "barGrouping": "Clustered",
                "chart": {
                  "dim1": "vin",
                  "dim2": "date",
                  "dim3": "none",
                  "metric1": "s1",
                  "metric2": "s2",
                  "metric3": "none",
                  "metric4": "none",
                  "networkLabel": "none",
                  "timeseriesSort": "array-order"
                },
                "colors": [
                  "#DA752E",
                  "#E5C209",
                  "#1441A0",
                  "#B86117",
                  "#4D430C",
                  "#1DB390",
                  "#B3331D",
                  "#088EB2",
                  "#417505",
                  "#E479A8",
                  "#F9F39E",
                  "#5782DC",
                  "#EBA97B",
                  "#A2AB60",
                  "#B291CF",
                  "#8DD2C2",
                  "#E6A19F",
                  "#3DC7E0",
                  "#98CE5B"
                ],
                "hierarchyType": "dendrogram",
                "lineType": "line",
                "marginalGraphics": "none",
                "networkType": "force",
                "pieceType": "bar",
                "selectedDimensions": [
                  "vin"
                ],
                "selectedMetrics": [],
                "summaryType": "violin",
                "trendLine": "none",
                "view": "grid"
              }
            }
          },
          "output_type": "execute_result"
        }
      ],
      "source": "using System.Collections.Generic;\r\n\r\nQueryDefinition queryDefinition = new QueryDefinition(\"SELECT TOP 100 * FROM c WHERE c.vin = @vin\")\r\n                                      .WithParameter(\"@vin\", \"8\");\r\n\r\nFeedIterator<TelemetryEvent> queryResultSetIterator = container.GetItemQueryIterator<TelemetryEvent>(queryDefinition);\r\n\r\nList<TelemetryEvent> telemetryEvents = new List<TelemetryEvent>();\r\n\r\nwhile (queryResultSetIterator.HasMoreResults)\r\n{\r\n    FeedResponse<TelemetryEvent> currentResultSet = await queryResultSetIterator.ReadNextAsync();\r\n    foreach (TelemetryEvent telemetryEvent in currentResultSet)\r\n    {\r\n        telemetryEvents.Add(telemetryEvent);\r\n    }\r\n}\r\n\r\ntelemetryEvents"
    },
    {
      "cell_type": "markdown",
      "id": "00166218-6351-492e-9f5f-1bc0b52c37d2",
      "metadata": {
        "nteract": {
          "transient": {
            "deleting": false
          }
        }
      },
      "source": "# Feature #5: Query data into Pandas dataframe (Python)"
    },
    {
      "cell_type": "markdown",
      "id": "ff18e21f-cb6f-49b8-b65c-58658c10abcd",
      "metadata": {
        "nteract": {
          "transient": {
            "deleting": false
          }
        }
      },
      "source": ""
    }
  ],
  "metadata": {
    "kernelspec": {
      "displayName": "CSharp",
      "language": "csharp",
      "name": "csharp"
    },
    "language_info": {
      "codemirror_mode": "text/x-csharp",
      "file_extension": "ipynb",
      "mimetype": "application/json",
      "name": "csharp",
      "version": "7.3"
    },
    "nteract": {
      "version": "dataExplorer 1.0"
    }
  },
  "nbformat": 4,
  "nbformat_minor": 5
}