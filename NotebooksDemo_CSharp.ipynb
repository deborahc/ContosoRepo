{
  "cells": [
    {
      "cell_type": "markdown",
      "source": [
        "## Welcome to C# notebooks in Azure Cosmos DB!## "
      ],
      "metadata": {
        "nteract": {
          "transient": {
            "deleting": false
          }
        }
      }
    },
    {
      "cell_type": "markdown",
      "source": [
        "### Install custom NuGet packages"
      ],
      "metadata": {
        "nteract": {
          "transient": {
            "deleting": false
          }
        }
      }
    },
    {
      "cell_type": "code",
      "source": [
        "#r \"nuget: Bogus\"\n",
        "#r \"nuget: System.Linq\"\n",
        "#r \"nuget: System.Linq.Expressions\""
      ],
      "outputs": [
        {
          "output_type": "execute_result",
          "execution_count": 1,
          "data": {},
          "metadata": {}
        }
      ],
      "execution_count": 1,
      "metadata": {
        "collapsed": true,
        "outputExpanded": false,
        "jupyter": {
          "source_hidden": false,
          "outputs_hidden": false
        },
        "nteract": {
          "transient": {
            "deleting": false
          }
        },
        "execution": {
          "iopub.status.busy": "2020-06-04T15:49:37.849Z",
          "iopub.status.idle": "2020-06-04T15:49:38.079Z",
          "shell.execute_reply": "2020-06-04T15:49:38.128Z"
        }
      }
    },
    {
      "cell_type": "markdown",
      "source": [
        "### Use built-in Cosmos .NET SDK to create resources"
      ],
      "metadata": {
        "nteract": {
          "transient": {
            "deleting": false
          }
        }
      }
    },
    {
      "cell_type": "code",
      "source": [
        "using System;\n",
        "using Microsoft.Azure.Cosmos;\n",
        "using System.Collections;\n",
        "\n",
        "// Initialize a new instance of CosmosClient using the built-in account endpoint and key parameters\n",
        "CosmosClient cosmosClient = new CosmosClient(Cosmos.Endpoint, Cosmos.Key);\n",
        "\n",
        "// Create a new database and container with 400 RU/s\n",
        "Microsoft.Azure.Cosmos.Database database = await cosmosClient.CreateDatabaseIfNotExistsAsync(\"Demo\");\n",
        "Container container = await database.CreateContainerIfNotExistsAsync(\"PaymentData\", \"/id\", 400);\n",
        "\n",
        "Display.AsMarkdown($\"Created database {database.Id} and container {container.Id}.\");"
      ],
      "outputs": [
        {
          "output_type": "execute_result",
          "execution_count": 2,
          "data": {},
          "metadata": {}
        },
        {
          "output_type": "display_data",
          "data": {
            "text/plain": [
              "<IPython.core.display.Markdown object>"
            ],
            "text/markdown": [
              "Created database Demo and container PaymentData."
            ]
          },
          "metadata": {}
        }
      ],
      "execution_count": 1,
      "metadata": {
        "collapsed": true,
        "execution": {
          "iopub.execute_input": "2020-06-04T15:49:39.538Z",
          "iopub.status.busy": "2020-06-04T15:49:38.845Z",
          "iopub.status.idle": "2020-06-04T15:49:39.622Z",
          "shell.execute_reply": "2020-06-04T15:49:39.648Z"
        },
        "jupyter": {
          "outputs_hidden": false,
          "source_hidden": false
        },
        "nteract": {
          "transient": {
            "deleting": false
          }
        },
        "outputExpanded": false,
        "trusted": true
      }
    },
    {
      "cell_type": "markdown",
      "source": [
        "### Represent C# classes ###"
      ],
      "metadata": {
        "nteract": {
          "transient": {
            "deleting": false
          }
        }
      }
    },
    {
      "cell_type": "code",
      "source": [
        "using System;\n",
        "\n",
        "class PaymentEvent\n",
        "{\n",
        "    public string id { get; set; }\n",
        "\n",
        "    public Decimal Amount { get; set; }\n",
        "\n",
        "    public string TransactionType { get; set; }\n",
        "\n",
        "    public string Currency { get; set; }\n",
        "\n",
        "    public string Username { get; set; }\n",
        "\n",
        "    public string Country { get; set; }\n",
        "\n",
        "    public string Address { get; set; }\n",
        "\n",
        "    public string Date { get; set; }\n",
        "\n",
        "    public DateTime Timestamp { get; set; }\n",
        "\n",
        "}"
      ],
      "outputs": [
        {
          "output_type": "execute_result",
          "execution_count": 3,
          "data": {},
          "metadata": {}
        }
      ],
      "execution_count": 3,
      "metadata": {
        "collapsed": true,
        "execution": {
          "iopub.status.busy": "2020-06-04T15:49:39.239Z",
          "iopub.status.idle": "2020-06-04T15:49:39.307Z",
          "shell.execute_reply": "2020-06-04T15:49:39.340Z"
        },
        "jupyter": {
          "outputs_hidden": false,
          "source_hidden": false
        },
        "nteract": {
          "transient": {
            "deleting": false
          }
        },
        "outputExpanded": false,
        "trusted": true
      }
    },
    {
      "cell_type": "markdown",
      "source": [
        "### Generate some data ###"
      ],
      "metadata": {
        "nteract": {
          "transient": {
            "deleting": false
          }
        }
      }
    },
    {
      "cell_type": "code",
      "source": [
        "using System.Linq;\n",
        "using System.Collections.Generic;\n",
        "using System.Linq.Expressions;\n",
        "using System;\n",
        "using Bogus;\n",
        "\n",
        "static List<PaymentEvent> GenerateRandomPaymentEvents(int numberOfDocumentsPerBatch)\n",
        "{\n",
        "    var faker = new Faker();\n",
        "\n",
        "    var paymentEvent = new Faker<PaymentEvent>()\n",
        "        .StrictMode(true)\n",
        "        //Generate event\n",
        "        .RuleFor(o => o.id, f => Guid.NewGuid().ToString())\n",
        "        .RuleFor(o => o.Amount, f => f.Finance.Amount())\n",
        "        .RuleFor(o => o.TransactionType, f => f.Finance.TransactionType())\n",
        "        .RuleFor(o => o.Currency, f => f.Finance.Currency().Code)\n",
        "        .RuleFor(o => o.Username, f => f.Internet.UserName())\n",
        "        .RuleFor(o => o.Country, f => f.Address.Country())\n",
        "        .RuleFor(o => o.Address, f => f.Address.StreetAddress())\n",
        "        .RuleFor(o => o.Timestamp, f => DateTime.Now) // just today's date\n",
        "        .RuleFor(o => o.Date, (f, m) => $\"{m.Timestamp.ToString(\"yyyy-MM-dd\")}\");\n",
        "\n",
        "    var events = paymentEvent.Generate(numberOfDocumentsPerBatch);\n",
        "    \n",
        "    return events;\n",
        "    \n",
        "}"
      ],
      "outputs": [
        {
          "output_type": "execute_result",
          "execution_count": 4,
          "data": {},
          "metadata": {}
        }
      ],
      "execution_count": 4,
      "metadata": {
        "collapsed": true,
        "outputExpanded": false,
        "jupyter": {
          "source_hidden": false,
          "outputs_hidden": false
        },
        "nteract": {
          "transient": {
            "deleting": false
          }
        },
        "execution": {
          "iopub.status.busy": "2020-06-04T15:49:39.381Z",
          "iopub.status.idle": "2020-06-04T15:49:39.447Z",
          "shell.execute_reply": "2020-06-04T15:49:39.469Z"
        }
      }
    },
    {
      "cell_type": "markdown",
      "source": [
        "#### Write data to PaymentData container ####"
      ],
      "metadata": {
        "nteract": {
          "transient": {
            "deleting": false
          }
        }
      }
    },
    {
      "cell_type": "code",
      "source": [
        "var paymentEvents = GenerateRandomPaymentEvents(100);\n",
        "\n",
        "foreach (PaymentEvent paymentEvent in paymentEvents)\n",
        "{\n",
        "    var itemResponse = await container.CreateItemAsync<PaymentEvent>(paymentEvent);\n",
        "}\n",
        "\n",
        "Display.AsMarkdown(\"Created 100 items in PaymentData container.\");"
      ],
      "outputs": [
        {
          "output_type": "execute_result",
          "execution_count": 5,
          "data": {},
          "metadata": {}
        },
        {
          "output_type": "display_data",
          "data": {
            "text/plain": [
              "<IPython.core.display.Markdown object>"
            ],
            "text/markdown": [
              "Created 100 items in PaymentData container."
            ]
          },
          "metadata": {}
        }
      ],
      "execution_count": 2,
      "metadata": {
        "collapsed": true,
        "execution": {
          "iopub.execute_input": "2020-06-04T15:49:40.752Z",
          "iopub.status.busy": "2020-06-04T15:49:40.719Z",
          "iopub.status.idle": "2020-06-04T15:49:40.823Z",
          "shell.execute_reply": "2020-06-04T15:49:40.853Z"
        },
        "jupyter": {
          "outputs_hidden": false,
          "source_hidden": false
        },
        "nteract": {
          "transient": {
            "deleting": false
          }
        },
        "outputExpanded": false,
        "trusted": true
      }
    },
    {
      "cell_type": "markdown",
      "source": [
        "### Query your data ###"
      ],
      "metadata": {
        "nteract": {
          "transient": {
            "deleting": false
          }
        }
      }
    },
    {
      "cell_type": "code",
      "source": [
        "using System.Linq;\n",
        "\n",
        "QueryDefinition queryDefinition = new QueryDefinition(\"SELECT * FROM c WHERE c.TransactionType IN ('deposit', 'invoice', 'withdrawal')\");\n",
        "\n",
        "FeedIterator<PaymentEvent> queryResultSetIterator = container.GetItemQueryIterator<PaymentEvent>(queryDefinition);\n",
        "\n",
        "List<PaymentEvent> paymentEvents = new List<PaymentEvent>();\n",
        "\n",
        "while (queryResultSetIterator.HasMoreResults)\n",
        "{\n",
        "    FeedResponse<PaymentEvent> currentResultSet = await queryResultSetIterator.ReadNextAsync();\n",
        "    foreach (PaymentEvent paymentEvent in currentResultSet)\n",
        "    {\n",
        "        paymentEvents.Add(paymentEvent);\n",
        "    }\n",
        "}\n",
        "\n",
        "paymentEvents.Take(100)"
      ],
      "outputs": [
        {
          "output_type": "execute_result",
          "execution_count": 7,
          "data": {
            "text/plain": [
              "System.Linq.Enumerable+ListPartition`1[Submission#6+PaymentEvent]"
            ],
            "application/vnd.dataresource+json": {
              "data": [
                {
                  "id": "040e8634-cd80-4605-bd86-3adcfacec387",
                  "Amount": 732.93,
                  "TransactionType": "deposit",
                  "Currency": "UAH",
                  "Username": "Prince_Conn",
                  "Country": "Italy",
                  "Address": "22508 Bertha Glens",
                  "Date": "2020-06-04",
                  "Timestamp": "2020-06-04T15:49:46.4148851+00:00",
                  "index": 0
                },
                {
                  "id": "d0c270f6-1ef5-4484-86f6-5aa53938fa92",
                  "Amount": 695.07,
                  "TransactionType": "invoice",
                  "Currency": "ERN",
                  "Username": "Rasheed.McKenzie",
                  "Country": "Comoros",
                  "Address": "0324 Stokes Trace",
                  "Date": "2020-06-04",
                  "Timestamp": "2020-06-04T15:49:46.4149194+00:00",
                  "index": 1
                },
                {
                  "id": "9e3d8132-ad0b-476e-9e44-c8c5e3c43c66",
                  "Amount": 423.4,
                  "TransactionType": "deposit",
                  "Currency": "PGK",
                  "Username": "Katrine.Von22",
                  "Country": "Guadeloupe",
                  "Address": "0485 Emerald Stream",
                  "Date": "2020-06-04",
                  "Timestamp": "2020-06-04T15:49:46.4149405+00:00",
                  "index": 2
                },
                {
                  "id": "0a5a0904-6aec-4110-acf3-55cc952008e0",
                  "Amount": 339.46,
                  "TransactionType": "withdrawal",
                  "Currency": "XCD",
                  "Username": "Julia_Gutmann",
                  "Country": "Sri Lanka",
                  "Address": "808 Eddie Groves",
                  "Date": "2020-06-04",
                  "Timestamp": "2020-06-04T15:49:46.4149579+00:00",
                  "index": 3
                },
                {
                  "id": "da0258a6-fe5b-4009-a48f-52e03b28d4ab",
                  "Amount": 809.91,
                  "TransactionType": "withdrawal",
                  "Currency": "KPW",
                  "Username": "Elna.Satterfield58",
                  "Country": "Dominican Republic",
                  "Address": "74959 Kessler Points",
                  "Date": "2020-06-04",
                  "Timestamp": "2020-06-04T15:49:46.4149769+00:00",
                  "index": 4
                },
                {
                  "id": "2e76493c-65eb-43da-a6aa-04a7ea49f3dc",
                  "Amount": 656.15,
                  "TransactionType": "invoice",
                  "Currency": "MYR",
                  "Username": "Norberto33",
                  "Country": "Fiji",
                  "Address": "9827 Granville Meadows",
                  "Date": "2020-06-04",
                  "Timestamp": "2020-06-04T15:49:46.4150131+00:00",
                  "index": 5
                },
                {
                  "id": "b92d34c0-fdcf-408a-8eb7-756a4f5e2855",
                  "Amount": 847.38,
                  "TransactionType": "deposit",
                  "Currency": "GNF",
                  "Username": "Tanya69",
                  "Country": "Peru",
                  "Address": "469 Daugherty Fords",
                  "Date": "2020-06-04",
                  "Timestamp": "2020-06-04T15:49:46.4150289+00:00",
                  "index": 6
                },
                {
                  "id": "fc50cd39-7c10-4766-a68c-b5d5762d8038",
                  "Amount": 622.88,
                  "TransactionType": "deposit",
                  "Currency": "LAK",
                  "Username": "Henri_Rowe",
                  "Country": "Chad",
                  "Address": "2307 Mitchell Rapid",
                  "Date": "2020-06-04",
                  "Timestamp": "2020-06-04T15:49:46.4150454+00:00",
                  "index": 7
                },
                {
                  "id": "08388c89-18c0-40e2-a9a1-07d9ab6d9fdb",
                  "Amount": 917.65,
                  "TransactionType": "withdrawal",
                  "Currency": "VUV",
                  "Username": "Alanis.Gibson",
                  "Country": "French Guiana",
                  "Address": "4545 Aiyana Center",
                  "Date": "2020-06-04",
                  "Timestamp": "2020-06-04T15:49:46.4150797+00:00",
                  "index": 8
                },
                {
                  "id": "b7f713b5-ecca-443e-938a-f0da40b411ce",
                  "Amount": 690.72,
                  "TransactionType": "invoice",
                  "Currency": "RWF",
                  "Username": "Jaden80",
                  "Country": "Bolivia",
                  "Address": "168 Amani Ville",
                  "Date": "2020-06-04",
                  "Timestamp": "2020-06-04T15:49:46.4151138+00:00",
                  "index": 9
                },
                {
                  "id": "a7ef12c9-c151-4709-bedb-dc37034d35ee",
                  "Amount": 241.73,
                  "TransactionType": "invoice",
                  "Currency": "SZL",
                  "Username": "Fabiola.Bergstrom32",
                  "Country": "Sao Tome and Principe",
                  "Address": "7879 Breitenberg Parkway",
                  "Date": "2020-06-04",
                  "Timestamp": "2020-06-04T15:49:46.4151307+00:00",
                  "index": 10
                },
                {
                  "id": "76d533e5-743c-484e-b443-2d264c42eb61",
                  "Amount": 230.86,
                  "TransactionType": "deposit",
                  "Currency": "XTS",
                  "Username": "Weston62",
                  "Country": "Georgia",
                  "Address": "2999 Herman Square",
                  "Date": "2020-06-04",
                  "Timestamp": "2020-06-04T15:49:46.4152697+00:00",
                  "index": 11
                },
                {
                  "id": "0523da0e-f60e-4ba2-925f-16e10c084647",
                  "Amount": 252.59,
                  "TransactionType": "withdrawal",
                  "Currency": "SLL",
                  "Username": "Kianna.Toy58",
                  "Country": "Egypt",
                  "Address": "413 Lueilwitz Squares",
                  "Date": "2020-06-04",
                  "Timestamp": "2020-06-04T15:49:46.4152856+00:00",
                  "index": 12
                },
                {
                  "id": "69381aa8-867a-43fe-a037-f3f87893656f",
                  "Amount": 98.7,
                  "TransactionType": "withdrawal",
                  "Currency": "RWF",
                  "Username": "Fernando36",
                  "Country": "Lesotho",
                  "Address": "966 Gleason Locks",
                  "Date": "2020-06-04",
                  "Timestamp": "2020-06-04T15:49:46.4153369+00:00",
                  "index": 13
                },
                {
                  "id": "acb2ea77-357e-4f5c-bed2-e470f74a8f3f",
                  "Amount": 747.44,
                  "TransactionType": "deposit",
                  "Currency": "MYR",
                  "Username": "Jodie.Weimann75",
                  "Country": "Denmark",
                  "Address": "34031 Jordon Squares",
                  "Date": "2020-06-04",
                  "Timestamp": "2020-06-04T15:49:46.4153542+00:00",
                  "index": 14
                },
                {
                  "id": "0e2734e9-65a5-43de-b88d-e925999ef337",
                  "Amount": 676.91,
                  "TransactionType": "withdrawal",
                  "Currency": "KZT",
                  "Username": "Bernard92",
                  "Country": "Bahrain",
                  "Address": "280 Cole Alley",
                  "Date": "2020-06-04",
                  "Timestamp": "2020-06-04T15:49:46.4153711+00:00",
                  "index": 15
                },
                {
                  "id": "c2d74c99-e54d-40b1-bc15-7b8e6d4dba7b",
                  "Amount": 870.16,
                  "TransactionType": "invoice",
                  "Currency": "GEL",
                  "Username": "Eleanora.Wisoky1",
                  "Country": "Saint Helena",
                  "Address": "26767 Osborne Harbors",
                  "Date": "2020-06-04",
                  "Timestamp": "2020-06-04T15:49:46.4154037+00:00",
                  "index": 16
                },
                {
                  "id": "f933e504-a0ae-4745-b114-10811196724d",
                  "Amount": 328.33,
                  "TransactionType": "invoice",
                  "Currency": "TWD",
                  "Username": "Mariano47",
                  "Country": "Andorra",
                  "Address": "911 Simonis Heights",
                  "Date": "2020-06-04",
                  "Timestamp": "2020-06-04T15:49:46.4154206+00:00",
                  "index": 17
                },
                {
                  "id": "ff7a05d7-db15-4ed5-b67b-5094716928ff",
                  "Amount": 673.01,
                  "TransactionType": "deposit",
                  "Currency": "XPT",
                  "Username": "Abdul_Windler86",
                  "Country": "Holy See (Vatican City State)",
                  "Address": "5558 Hand Plains",
                  "Date": "2020-06-04",
                  "Timestamp": "2020-06-04T15:49:46.4154705+00:00",
                  "index": 18
                },
                {
                  "id": "8e7aa95e-9fce-4dd1-8e8c-47f93acfa17f",
                  "Amount": 763.84,
                  "TransactionType": "withdrawal",
                  "Currency": "THB",
                  "Username": "Valentina84",
                  "Country": "San Marino",
                  "Address": "34220 Terry Extensions",
                  "Date": "2020-06-04",
                  "Timestamp": "2020-06-04T15:49:46.4155033+00:00",
                  "index": 19
                },
                {
                  "id": "51f8298c-9e9d-4740-9942-54d030010437",
                  "Amount": 113.84,
                  "TransactionType": "invoice",
                  "Currency": "BND",
                  "Username": "Alexandra76",
                  "Country": "San Marino",
                  "Address": "443 Rodriguez Mountain",
                  "Date": "2020-06-04",
                  "Timestamp": "2020-06-04T15:49:46.4155209+00:00",
                  "index": 20
                },
                {
                  "id": "64c8e47e-5663-48a3-b264-31928d7ad36f",
                  "Amount": 824.94,
                  "TransactionType": "deposit",
                  "Currency": "BMD",
                  "Username": "Waino3",
                  "Country": "French Polynesia",
                  "Address": "1916 Enos Union",
                  "Date": "2020-06-04",
                  "Timestamp": "2020-06-04T15:49:46.415538+00:00",
                  "index": 21
                },
                {
                  "id": "339085f4-6072-40e9-aa07-3bb7b114a4aa",
                  "Amount": 554.5,
                  "TransactionType": "deposit",
                  "Currency": "USD",
                  "Username": "Deja75",
                  "Country": "Singapore",
                  "Address": "2070 Kertzmann Track",
                  "Date": "2020-06-04",
                  "Timestamp": "2020-06-04T15:49:46.4155717+00:00",
                  "index": 22
                },
                {
                  "id": "843b1593-3011-4e0c-98c0-387baa7ec013",
                  "Amount": 440.57,
                  "TransactionType": "invoice",
                  "Currency": "AWG",
                  "Username": "Caterina47",
                  "Country": "Sao Tome and Principe",
                  "Address": "9080 Hailie Harbors",
                  "Date": "2020-06-04",
                  "Timestamp": "2020-06-04T15:49:46.415589+00:00",
                  "index": 23
                },
                {
                  "id": "7f4b5ea1-905e-4561-942f-be5870a3424c",
                  "Amount": 204.71,
                  "TransactionType": "withdrawal",
                  "Currency": "JMD",
                  "Username": "Mercedes71",
                  "Country": "Democratic People's Republic of Korea",
                  "Address": "5958 Huels Lodge",
                  "Date": "2020-06-04",
                  "Timestamp": "2020-06-04T15:49:46.4156218+00:00",
                  "index": 24
                },
                {
                  "id": "8ac90592-c544-4c44-82b2-16673aa8172e",
                  "Amount": 675.62,
                  "TransactionType": "withdrawal",
                  "Currency": "VUV",
                  "Username": "Lilla42",
                  "Country": "Solomon Islands",
                  "Address": "0324 Balistreri Circle",
                  "Date": "2020-06-04",
                  "Timestamp": "2020-06-04T15:49:46.415639+00:00",
                  "index": 25
                },
                {
                  "id": "351e0448-e5be-4e87-819f-61c30cdf896d",
                  "Amount": 417.62,
                  "TransactionType": "deposit",
                  "Currency": "EUR",
                  "Username": "Shyanne_Funk32",
                  "Country": "Russian Federation",
                  "Address": "0072 Moore Flat",
                  "Date": "2020-06-04",
                  "Timestamp": "2020-06-04T15:49:46.4156716+00:00",
                  "index": 26
                },
                {
                  "id": "4bf0be80-15c4-465c-accb-796f124f4b8a",
                  "Amount": 948.04,
                  "TransactionType": "deposit",
                  "Currency": "CZK",
                  "Username": "Susie.Jenkins",
                  "Country": "Sao Tome and Principe",
                  "Address": "8843 Lakin Landing",
                  "Date": "2020-06-04",
                  "Timestamp": "2020-06-04T15:49:46.4172171+00:00",
                  "index": 27
                },
                {
                  "id": "4ccbab9c-9bbb-4eff-9b34-0000390756d1",
                  "Amount": 402.28,
                  "TransactionType": "deposit",
                  "Currency": "SDG",
                  "Username": "Candelario_Ledner",
                  "Country": "Swaziland",
                  "Address": "7693 Marcia Junction",
                  "Date": "2020-06-04",
                  "Timestamp": "2020-06-04T15:49:46.4172391+00:00",
                  "index": 28
                },
                {
                  "id": "1617fbb0-233c-49e6-827b-3ea01a2b4308",
                  "Amount": 274.69,
                  "TransactionType": "deposit",
                  "Currency": "TZS",
                  "Username": "Rollin.Swift",
                  "Country": "Serbia",
                  "Address": "50107 Julien Ports",
                  "Date": "2020-06-04",
                  "Timestamp": "2020-06-04T15:49:46.4172555+00:00",
                  "index": 29
                },
                {
                  "id": "802f7af6-6e89-4db1-a1da-4f17d5fb76a1",
                  "Amount": 682.56,
                  "TransactionType": "deposit",
                  "Currency": "BZD",
                  "Username": "Henriette.Koepp",
                  "Country": "Dominica",
                  "Address": "9515 Garnet Plains",
                  "Date": "2020-06-04",
                  "Timestamp": "2020-06-04T15:49:46.4172741+00:00",
                  "index": 30
                },
                {
                  "id": "1471c463-5e67-414c-8079-a24b9837e41d",
                  "Amount": 930.19,
                  "TransactionType": "invoice",
                  "Currency": "USD",
                  "Username": "Rowena78",
                  "Country": "New Caledonia",
                  "Address": "195 Ruecker River",
                  "Date": "2020-06-04",
                  "Timestamp": "2020-06-04T15:49:46.4173086+00:00",
                  "index": 31
                },
                {
                  "id": "202d0b10-b323-4288-a203-de2ceee78e55",
                  "Amount": 19.03,
                  "TransactionType": "deposit",
                  "Currency": "MNT",
                  "Username": "Johnathan51",
                  "Country": "Sao Tome and Principe",
                  "Address": "93606 Mohamed Route",
                  "Date": "2020-06-04",
                  "Timestamp": "2020-06-04T15:49:46.4173266+00:00",
                  "index": 32
                },
                {
                  "id": "7a13597c-bba3-4865-90db-89bcf26b92b8",
                  "Amount": 994.02,
                  "TransactionType": "invoice",
                  "Currency": "XFU",
                  "Username": "Mathew_Fay",
                  "Country": "Tokelau",
                  "Address": "339 Murazik Parks",
                  "Date": "2020-06-04",
                  "Timestamp": "2020-06-04T15:49:46.4173439+00:00",
                  "index": 33
                },
                {
                  "id": "c96b3579-9209-407e-97f5-2233e5e815fd",
                  "Amount": 9.52,
                  "TransactionType": "invoice",
                  "Currency": "XTS",
                  "Username": "Sabina.Rogahn39",
                  "Country": "Slovenia",
                  "Address": "20701 Sydni Ridge",
                  "Date": "2020-06-04",
                  "Timestamp": "2020-06-04T15:49:46.4173613+00:00",
                  "index": 34
                },
                {
                  "id": "1069edbb-7a3f-459e-91bb-8c478faa2440",
                  "Amount": 142.59,
                  "TransactionType": "invoice",
                  "Currency": "BZD",
                  "Username": "Julio_Lesch30",
                  "Country": "Nigeria",
                  "Address": "51236 Morar Track",
                  "Date": "2020-06-04",
                  "Timestamp": "2020-06-04T15:49:46.4173944+00:00",
                  "index": 35
                },
                {
                  "id": "44b400b2-2d31-42d8-9820-8ed32f533d31",
                  "Amount": 853.1,
                  "TransactionType": "invoice",
                  "Currency": "BAM",
                  "Username": "Helen.Schiller40",
                  "Country": "Saint Lucia",
                  "Address": "461 Polly Row",
                  "Date": "2020-06-04",
                  "Timestamp": "2020-06-04T15:49:46.4174118+00:00",
                  "index": 36
                },
                {
                  "id": "af7f4f38-0749-4d29-b73b-a197d41c799e",
                  "Amount": 791.22,
                  "TransactionType": "deposit",
                  "Currency": "LRD",
                  "Username": "Ezra47",
                  "Country": "Belgium",
                  "Address": "223 Langworth Valley",
                  "Date": "2020-06-04",
                  "Timestamp": "2020-06-04T15:49:46.4174459+00:00",
                  "index": 37
                },
                {
                  "id": "ab4bf148-51b1-4883-839e-3e8d62c384b4",
                  "Amount": 586.87,
                  "TransactionType": "deposit",
                  "Currency": "USD",
                  "Username": "Kaitlin_Padberg84",
                  "Country": "Wallis and Futuna",
                  "Address": "022 Jesus Fords",
                  "Date": "2020-06-04",
                  "Timestamp": "2020-06-04T15:49:46.4174801+00:00",
                  "index": 38
                },
                {
                  "id": "5958e993-aadc-4d0d-b748-496a966dd307",
                  "Amount": 73.16,
                  "TransactionType": "deposit",
                  "Currency": "MVR",
                  "Username": "Lelia.Bartoletti27",
                  "Country": "Iceland",
                  "Address": "8331 Lambert Mountains",
                  "Date": "2020-06-04",
                  "Timestamp": "2020-06-04T15:49:46.4175603+00:00",
                  "index": 39
                },
                {
                  "id": "1254a5dc-f26c-4b6b-9557-7ce0dc16d659",
                  "Amount": 1.35,
                  "TransactionType": "invoice",
                  "Currency": "USD",
                  "Username": "Felix_Schiller41",
                  "Country": "Turkey",
                  "Address": "035 Jaquelin Hollow",
                  "Date": "2020-06-04",
                  "Timestamp": "2020-06-04T15:49:46.4176144+00:00",
                  "index": 40
                },
                {
                  "id": "bd48af20-3200-407e-8a49-a3a151a2862f",
                  "Amount": 817.04,
                  "TransactionType": "invoice",
                  "Currency": "ETB",
                  "Username": "Zella.Feest60",
                  "Country": "Saint Kitts and Nevis",
                  "Address": "07107 Nader Plains",
                  "Date": "2020-06-04",
                  "Timestamp": "2020-06-04T15:49:46.4176301+00:00",
                  "index": 41
                },
                {
                  "id": "a00c75dc-a949-42ee-a7a1-721f015e1b0e",
                  "Amount": 384.16,
                  "TransactionType": "invoice",
                  "Currency": "THB",
                  "Username": "Ines42",
                  "Country": "United States of America",
                  "Address": "323 Lehner Club",
                  "Date": "2020-06-04",
                  "Timestamp": "2020-06-04T15:49:46.4176478+00:00",
                  "index": 42
                },
                {
                  "id": "6b0c3998-276e-4101-8871-72249ad8a266",
                  "Amount": 497.03,
                  "TransactionType": "withdrawal",
                  "Currency": "UGX",
                  "Username": "Odell_Botsford",
                  "Country": "Argentina",
                  "Address": "8633 Goyette Street",
                  "Date": "2020-06-04",
                  "Timestamp": "2020-06-04T15:49:46.417665+00:00",
                  "index": 43
                },
                {
                  "id": "1d29fa3e-71dc-449f-9bbc-158bfe98e847",
                  "Amount": 209.95,
                  "TransactionType": "invoice",
                  "Currency": "RUB",
                  "Username": "Alva71",
                  "Country": "Sierra Leone",
                  "Address": "13425 Erdman Haven",
                  "Date": "2020-06-04",
                  "Timestamp": "2020-06-04T15:49:46.4176804+00:00",
                  "index": 44
                },
                {
                  "id": "530f26a7-7ad8-4a41-9757-e94ece9a2b01",
                  "Amount": 322.59,
                  "TransactionType": "withdrawal",
                  "Currency": "FJD",
                  "Username": "Meggie73",
                  "Country": "Ireland",
                  "Address": "1128 Benny Estates",
                  "Date": "2020-06-04",
                  "Timestamp": "2020-06-04T15:49:46.4176977+00:00",
                  "index": 45
                },
                {
                  "id": "f6382ac6-22f1-4f48-a6e5-d6e43609ee53",
                  "Amount": 358.82,
                  "TransactionType": "withdrawal",
                  "Currency": "BMD",
                  "Username": "Andrew50",
                  "Country": "Gabon",
                  "Address": "0701 Mack Points",
                  "Date": "2020-06-04",
                  "Timestamp": "2020-06-04T15:49:46.4177308+00:00",
                  "index": 46
                },
                {
                  "id": "f0cb8fc1-af19-4c15-871c-cbd30ba0ee35",
                  "Amount": 228.81,
                  "TransactionType": "invoice",
                  "Currency": "UZS",
                  "Username": "Sterling16",
                  "Country": "France",
                  "Address": "1325 Tatum Roads",
                  "Date": "2020-06-04",
                  "Timestamp": "2020-06-04T15:49:46.4177463+00:00",
                  "index": 47
                },
                {
                  "id": "6230a36f-ec08-45a8-b811-ae1e95e6fa31",
                  "Amount": 827.68,
                  "TransactionType": "invoice",
                  "Currency": "BBD",
                  "Username": "Camren.Hirthe",
                  "Country": "Anguilla",
                  "Address": "317 Elza Road",
                  "Date": "2020-06-04",
                  "Timestamp": "2020-06-04T15:49:46.4177627+00:00",
                  "index": 48
                },
                {
                  "id": "1e60bd06-cecb-468b-b9ce-213dc2aa903f",
                  "Amount": 586.23,
                  "TransactionType": "deposit",
                  "Currency": "GTQ",
                  "Username": "Alexandre.Powlowski93",
                  "Country": "Saint Pierre and Miquelon",
                  "Address": "3631 Gonzalo Knolls",
                  "Date": "2020-06-04",
                  "Timestamp": "2020-06-04T15:49:46.4177812+00:00",
                  "index": 49
                },
                {
                  "id": "8eff2e00-e436-4e0e-99c2-0c6ae116b22c",
                  "Amount": 198.74,
                  "TransactionType": "invoice",
                  "Currency": "USD",
                  "Username": "Vida_Stehr",
                  "Country": "Tajikistan",
                  "Address": "11119 Wilfrid Port",
                  "Date": "2020-06-04",
                  "Timestamp": "2020-06-04T15:49:46.4177966+00:00",
                  "index": 50
                },
                {
                  "id": "dddf09d5-6be9-416b-a9a9-e4e28f217edf",
                  "Amount": 95.42,
                  "TransactionType": "deposit",
                  "Currency": "TWD",
                  "Username": "Alison38",
                  "Country": "Czech Republic",
                  "Address": "395 Johnson Junction",
                  "Date": "2020-06-04",
                  "Timestamp": "2020-06-04T15:49:46.4178131+00:00",
                  "index": 51
                },
                {
                  "id": "a823e5e5-c86b-459a-84eb-4618c4516bff",
                  "Amount": 119.09,
                  "TransactionType": "deposit",
                  "Currency": "TMT",
                  "Username": "Linnea.Heller82",
                  "Country": "Armenia",
                  "Address": "122 Lakin Lodge",
                  "Date": "2020-06-04",
                  "Timestamp": "2020-06-04T15:49:46.4178297+00:00",
                  "index": 52
                },
                {
                  "id": "767f8279-0fa5-460b-9877-abe41514f4b5",
                  "Amount": 52.42,
                  "TransactionType": "deposit",
                  "Currency": "XFU",
                  "Username": "Franco.Langosh",
                  "Country": "Albania",
                  "Address": "727 Hamill Pine",
                  "Date": "2020-06-04",
                  "Timestamp": "2020-06-04T15:49:46.4178619+00:00",
                  "index": 53
                },
                {
                  "id": "018d0825-a63b-4596-97c5-6937cea6e6d4",
                  "Amount": 381.88,
                  "TransactionType": "deposit",
                  "Currency": "ZAR",
                  "Username": "Pauline95",
                  "Country": "Portugal",
                  "Address": "57007 Schuppe Fort",
                  "Date": "2020-06-04",
                  "Timestamp": "2020-06-04T15:49:46.4178795+00:00",
                  "index": 54
                },
                {
                  "id": "48e7408b-369a-4b30-af74-fef5802cd055",
                  "Amount": 454.62,
                  "TransactionType": "withdrawal",
                  "Currency": "USD",
                  "Username": "Sheldon.Rosenbaum13",
                  "Country": "Georgia",
                  "Address": "628 Wolff Underpass",
                  "Date": "2020-06-04",
                  "Timestamp": "2020-06-04T15:49:46.4178972+00:00",
                  "index": 55
                },
                {
                  "id": "0d0555f9-7e0b-41c8-849e-7668fc2b780d",
                  "Amount": 178.85,
                  "TransactionType": "invoice",
                  "Currency": "XPT",
                  "Username": "Delphine21",
                  "Country": "Israel",
                  "Address": "242 Robel Lakes",
                  "Date": "2020-06-04",
                  "Timestamp": "2020-06-04T15:49:46.4179131+00:00",
                  "index": 56
                },
                {
                  "id": "b2cfcb4e-7292-4a69-9202-fd1dddbea92a",
                  "Amount": 856.98,
                  "TransactionType": "withdrawal",
                  "Currency": "USD",
                  "Username": "Kaela.Kunze",
                  "Country": "Myanmar",
                  "Address": "081 Runolfsdottir Knoll",
                  "Date": "2020-06-04",
                  "Timestamp": "2020-06-04T15:49:46.4179302+00:00",
                  "index": 57
                },
                {
                  "id": "7e2c5744-77da-4253-be7d-0021df140348",
                  "Amount": 282.15,
                  "TransactionType": "deposit",
                  "Currency": "PKR",
                  "Username": "Osbaldo_Reinger",
                  "Country": "Saudi Arabia",
                  "Address": "0303 Green Locks",
                  "Date": "2020-06-04",
                  "Timestamp": "2020-06-04T15:49:46.4179628+00:00",
                  "index": 58
                },
                {
                  "id": "d0291572-003a-48f4-9673-abef78dae954",
                  "Amount": 947.74,
                  "TransactionType": "deposit",
                  "Currency": "KHR",
                  "Username": "Douglas.Heidenreich76",
                  "Country": "Trinidad and Tobago",
                  "Address": "82611 Kemmer Turnpike",
                  "Date": "2020-06-04",
                  "Timestamp": "2020-06-04T15:49:46.417998+00:00",
                  "index": 59
                },
                {
                  "id": "6897f08c-dc99-4eb9-afeb-552355a42160",
                  "Amount": 187.8,
                  "TransactionType": "deposit",
                  "Currency": "USD",
                  "Username": "Amie32",
                  "Country": "Papua New Guinea",
                  "Address": "1948 Noemi Islands",
                  "Date": "2020-06-04",
                  "Timestamp": "2020-06-04T15:49:46.4180152+00:00",
                  "index": 60
                },
                {
                  "id": "9f292bcd-fdb1-4e68-b3dc-12bf1e474be1",
                  "Amount": 964.96,
                  "TransactionType": "withdrawal",
                  "Currency": "ILS",
                  "Username": "Abe.Witting",
                  "Country": "Reunion",
                  "Address": "76870 Donnelly Hills",
                  "Date": "2020-06-04",
                  "Timestamp": "2020-06-04T15:49:46.4180308+00:00",
                  "index": 61
                },
                {
                  "id": "bd056ab4-5d60-4cfd-ab92-04dfea93053e",
                  "Amount": 975.82,
                  "TransactionType": "deposit",
                  "Currency": "BWP",
                  "Username": "Camilla5",
                  "Country": "Saudi Arabia",
                  "Address": "5402 Marcellus Harbor",
                  "Date": "2020-06-04",
                  "Timestamp": "2020-06-04T15:49:46.4180475+00:00",
                  "index": 62
                },
                {
                  "id": "aff7efd6-ba4f-47bc-9fc2-07b1225cf338",
                  "Amount": 188.4,
                  "TransactionType": "invoice",
                  "Currency": "BSD",
                  "Username": "Cydney32",
                  "Country": "Saudi Arabia",
                  "Address": "695 Dalton Path",
                  "Date": "2020-06-04",
                  "Timestamp": "2020-06-04T15:49:46.4180651+00:00",
                  "index": 63
                },
                {
                  "id": "00e16806-f215-436f-87c0-5127fcbc43fe",
                  "Amount": 120.22,
                  "TransactionType": "invoice",
                  "Currency": "FJD",
                  "Username": "Newell.Schultz",
                  "Country": "United States of America",
                  "Address": "707 Murazik Station",
                  "Date": "2020-06-04",
                  "Timestamp": "2020-06-04T15:49:46.4180811+00:00",
                  "index": 64
                },
                {
                  "id": "87a953d8-abab-41ca-9662-1442c221c8f2",
                  "Amount": 339.97,
                  "TransactionType": "withdrawal",
                  "Currency": "KRW",
                  "Username": "Ahmad.Osinski89",
                  "Country": "Sierra Leone",
                  "Address": "88101 Kenny Park",
                  "Date": "2020-06-04",
                  "Timestamp": "2020-06-04T15:49:46.4180981+00:00",
                  "index": 65
                },
                {
                  "id": "63ee620f-8a40-41f5-866c-a238ead5af28",
                  "Amount": 602.09,
                  "TransactionType": "deposit",
                  "Currency": "EUR",
                  "Username": "Ivory.Stark",
                  "Country": "Antarctica (the territory South of 60 deg S)",
                  "Address": "6780 Wolff Heights",
                  "Date": "2020-06-04",
                  "Timestamp": "2020-06-04T15:49:46.4181146+00:00",
                  "index": 66
                },
                {
                  "id": "a4844d95-4014-4811-a70e-5b0c1653a446",
                  "Amount": 260.07,
                  "TransactionType": "invoice",
                  "Currency": "XBB",
                  "Username": "Dimitri_Reilly",
                  "Country": "Jordan",
                  "Address": "94754 Linnea Crossing",
                  "Date": "2020-06-04",
                  "Timestamp": "2020-06-04T15:49:46.4181624+00:00",
                  "index": 67
                },
                {
                  "id": "8f735327-5595-4c23-b2a9-90cfe1cf0dfe",
                  "Amount": 543.41,
                  "TransactionType": "deposit",
                  "Currency": "AWG",
                  "Username": "Kristin_Lang",
                  "Country": "Hungary",
                  "Address": "86763 Miles Ports",
                  "Date": "2020-06-04",
                  "Timestamp": "2020-06-04T15:49:46.4181856+00:00",
                  "index": 68
                },
                {
                  "id": "ee568e1d-cfd9-46d4-ad0b-ab2bd5a0757a",
                  "Amount": 190.22,
                  "TransactionType": "invoice",
                  "Currency": "XAF",
                  "Username": "Rolando55",
                  "Country": "Kuwait",
                  "Address": "2712 Koelpin Freeway",
                  "Date": "2020-06-04",
                  "Timestamp": "2020-06-04T15:49:46.4182043+00:00",
                  "index": 69
                },
                {
                  "id": "ae6b1d65-1b75-42d9-8e4a-03b2620e2aec",
                  "Amount": 791.05,
                  "TransactionType": "deposit",
                  "Currency": "RUB",
                  "Username": "Garnet.Jenkins",
                  "Country": "Togo",
                  "Address": "94315 Homenick Park",
                  "Date": "2020-06-04",
                  "Timestamp": "2020-06-04T15:49:46.4182218+00:00",
                  "index": 70
                }
              ],
              "schema": {
                "fields": [
                  {
                    "name": "index",
                    "type": "integer"
                  },
                  {
                    "name": "id",
                    "type": "string"
                  },
                  {
                    "name": "Amount",
                    "type": "number"
                  },
                  {
                    "name": "TransactionType",
                    "type": "string"
                  },
                  {
                    "name": "Currency",
                    "type": "string"
                  },
                  {
                    "name": "Username",
                    "type": "string"
                  },
                  {
                    "name": "Country",
                    "type": "string"
                  },
                  {
                    "name": "Address",
                    "type": "string"
                  },
                  {
                    "name": "Date",
                    "type": "string"
                  },
                  {
                    "name": "Timestamp",
                    "type": "string"
                  }
                ],
                "primaryKey": [
                  "index"
                ]
              }
            }
          },
          "metadata": {
            "application/vnd.dataresource+json": {
              "dx": {
                "summaryType": "violin",
                "marginalGraphics": "none",
                "view": "grid",
                "areaType": "hexbin",
                "selectedDimensions": [
                  "Date"
                ],
                "selectedMetrics": [],
                "networkType": "force",
                "pieceType": "bar",
                "lineType": "line",
                "hierarchyType": "dendrogram",
                "colors": [
                  "#DA752E",
                  "#E5C209",
                  "#1441A0",
                  "#B86117",
                  "#4D430C",
                  "#1DB390",
                  "#B3331D",
                  "#088EB2",
                  "#417505",
                  "#E479A8",
                  "#F9F39E",
                  "#5782DC",
                  "#EBA97B",
                  "#A2AB60",
                  "#B291CF",
                  "#8DD2C2",
                  "#E6A19F",
                  "#3DC7E0",
                  "#98CE5B"
                ],
                "trendLine": "none",
                "barGrouping": "Clustered",
                "chart": {
                  "metric1": "Amount",
                  "metric2": "none",
                  "timeseriesSort": "array-order",
                  "metric3": "none",
                  "metric4": "none",
                  "networkLabel": "none",
                  "dim1": "Date",
                  "dim2": "TransactionType",
                  "dim3": "none"
                }
              }
            }
          }
        }
      ],
      "execution_count": 7,
      "metadata": {
        "collapsed": true,
        "execution": {
          "iopub.status.busy": "2020-06-04T15:51:43.627Z",
          "iopub.status.idle": "2020-06-04T15:51:43.830Z",
          "shell.execute_reply": "2020-06-04T15:51:43.849Z",
          "iopub.execute_input": "2020-05-20T20:54:28.989Z"
        },
        "jupyter": {
          "outputs_hidden": false,
          "source_hidden": false
        },
        "nteract": {
          "transient": {
            "deleting": false
          }
        },
        "outputExpanded": false,
        "trusted": true
      }
    },
    {
      "cell_type": "markdown",
      "source": [
        "Message:"
      ],
      "metadata": {
        "nteract": {
          "transient": {
            "deleting": false
          }
        }
      }
    }
  ],
  "metadata": {
    "kernelspec": {
      "displayName": "CSharp",
      "language": "csharp",
      "name": "csharp"
    },
    "language_info": {
      "name": "csharp",
      "version": "7.3",
      "mimetype": "application/json",
      "file_extension": "ipynb",
      "codemirror_mode": "text/x-csharp"
    },
    "nteract": {
      "version": "dataExplorer 1.0"
    }
  },
  "nbformat": 4,
  "nbformat_minor": 4
}