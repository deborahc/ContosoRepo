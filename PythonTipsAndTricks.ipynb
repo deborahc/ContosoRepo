{
  "cells": [
    {
      "cell_type": "markdown",
      "id": "e1afb354-ed8a-4511-aac4-62ddeaf712a2",
      "metadata": {
        "nteract": {
          "transient": {
            "deleting": false
          }
        }
      },
      "source": "# Feature: Use built-in Cosmos Python SDK"
    },
    {
      "cell_type": "code",
      "execution_count": 1,
      "id": "c69d8686-d1b0-42ea-b7f4-351c35d84442",
      "metadata": {
        "collapsed": true,
        "execution": {
          "iopub.execute_input": "2021-03-11T21:14:34.679Z",
          "iopub.status.busy": "2021-03-11T21:14:34.673Z",
          "iopub.status.idle": "2021-03-11T21:14:35.248Z",
          "shell.execute_reply": "2021-03-11T21:14:35.266Z"
        },
        "jupyter": {
          "outputs_hidden": false,
          "source_hidden": false
        },
        "nteract": {
          "transient": {
            "deleting": false
          }
        },
        "trusted": true
      },
      "outputs": [
        {
          "name": "stdout",
          "output_type": "stream",
          "text": "Database RetailDemo created\nContainer WebsiteData created\n"
        }
      ],
      "source": "import azure.cosmos\r\nfrom azure.cosmos.partition_key import PartitionKey\r\n\r\ndatabase = cosmos_client.create_database_if_not_exists('DemoDatabase')\r\nprint('Database RetailDemo created')\r\n\r\ncontainer = database.create_container_if_not_exists(id='WebsiteData', partition_key=PartitionKey(path='/CartID'))\r\nprint('Container WebsiteData created')"
    },
    {
      "cell_type": "markdown",
      "id": "3d59a056-8929-49f4-881e-6561e7fec439",
      "metadata": {
        "nteract": {
          "transient": {
            "deleting": false
          }
        }
      },
      "source": "# Feature: Upload JSON file into a container"
    },
    {
      "cell_type": "code",
      "execution_count": 2,
      "id": "6cc9fe50-9710-4339-8fc4-5fa9fbc9a41b",
      "metadata": {
        "collapsed": true,
        "execution": {
          "iopub.status.busy": "2021-03-11T21:15:24.270Z",
          "iopub.status.idle": "2021-03-11T21:15:29.847Z",
          "shell.execute_reply": "2021-03-11T21:15:29.858Z"
        },
        "jupyter": {
          "outputs_hidden": false,
          "source_hidden": false
        },
        "nteract": {
          "transient": {
            "deleting": false
          }
        },
        "trusted": true
      },
      "outputs": [
        {
          "data": {
            "text/html": "\r\n<span style='color:#0078D4'>\r\nDocuments successfully uploaded to WebsiteData <br/>\r\nTotal number of documents imported:<br/>\r\n&nbsp;&nbsp;Success: <b>2654</b> <br/>\r\n&nbsp;&nbsp;Failure: <b>0</b> <br/>\r\nTotal time taken : <b>00:00:05</b> hours <br/>\r\nTotal RUs consumed : <b>27309.660000001593</b> <br/>\r\n<br/>\r\n</span>\r\n"
          },
          "metadata": {},
          "output_type": "display_data"
        }
      ],
      "source": "%%upload --databaseName RetailDemo --containerName WebsiteData --url https://cosmosnotebooksdata.blob.core.windows.net/notebookdata/websiteData.json"
    },
    {
      "cell_type": "markdown",
      "id": "2465bc21-eb82-4c77-b90e-8e6c586da686",
      "metadata": {
        "nteract": {
          "transient": {
            "deleting": false
          }
        }
      },
      "source": "# Feature: Query data into Pandas DataFrame"
    },
    {
      "cell_type": "code",
      "execution_count": 2,
      "id": "03787a64-1219-48a0-9a35-d63f3b669ab1",
      "metadata": {
        "collapsed": true,
        "execution": {
          "iopub.execute_input": "2021-03-11T21:16:47.719Z",
          "iopub.status.busy": "2021-03-11T21:16:47.548Z",
          "iopub.status.idle": "2021-03-11T21:16:47.750Z",
          "shell.execute_reply": "2021-03-11T21:16:47.765Z"
        },
        "jupyter": {
          "outputs_hidden": false,
          "source_hidden": false
        },
        "nteract": {
          "transient": {
            "deleting": false
          }
        },
        "trusted": true
      },
      "outputs": [
        {
          "data": {
            "text/html": "\r\n<div>\r\n  <style type='text/css' scoped>\r\n.collapsible {\r\n  background-color: #fff;\r\n  color: #0078D4;\r\n  cursor: pointer;\r\n  padding: 10px;\r\n  border: none;\r\n  text-align: left;\r\n  outline: none;\r\n  font-size: 15px;\r\n  border-radius: 5px;\r\n  margin: 5px\r\n}\r\n\r\n.active, .collapsible:hover {\r\n  color: #4db2ff;\r\n}\r\n\r\n.content {\r\n  margin: 2px;\r\n  padding: 0 18px;\r\n  overflow: hidden;\r\n  background-color: #fff;\r\n  height: 0px;\r\n  -moz-transition: height .2s ease-out;\r\n  -ms-transition: height .2s ease-out;\r\n  -o-transition: height .2s ease-out;\r\n  -webkit-transition: height .2s ease-out;\r\n  transition: height .2s ease-out;\r\n}\r\n</style>\r\n\r\n<button type='button' class='collapsible'>▶ View Query Metrics</button>\r\n  \r\n<div class='content'>\r\n  <div class='measuringWrapper'>\r\n    <span style=\"color:#0078D4\"><b>totalExecutionTimeInMs    </b>:    25.29<br/><b>queryCompileTimeInMs    </b>:    0.4<br/><b>queryLogicalPlanBuildTimeInMs    </b>:    0.1<br/><b>queryPhysicalPlanBuildTimeInMs    </b>:    0.04<br/><b>queryOptimizationTimeInMs    </b>:    0<br/><b>VMExecutionTimeInMs    </b>:    23.96<br/><b>indexLookupTimeInMs    </b>:    0<br/><b>documentLoadTimeInMs    </b>:    13.669999999999998<br/><b>systemFunctionExecuteTimeInMs    </b>:    0<br/><b>userFunctionExecuteTimeInMs    </b>:    0<br/><b>retrievedDocumentCount    </b>:    2654<br/><b>retrievedDocumentSize    </b>:    1366721<br/><b>outputDocumentCount    </b>:    2654<br/><b>outputDocumentSize    </b>:    220967<br/><b>writeOutputTimeInMs    </b>:    2.92<br/><b>averageIndexUtilizationRation    </b>:    1<br/></span>\r\n  </div>\r\n</div>\r\n\r\n<script>\r\nvar coll = document.getElementsByClassName('collapsible');\r\nvar i;\r\n\r\nfor (i = 0; i < coll.length; i++) {\r\n  \r\n  coll[i].addEventListener('click', function() {\r\n    this.classList.toggle('active');\r\n    var content = this.nextElementSibling;\r\n    \r\n    if (content.clientHeight != 0) {\r\n      this.textContent = '▶ View Query Metrics';\r\n      content.style.height = '0px';\r\n    }\r\n    else {\r\n      this.textContent = '▼ Hide Query Metrics';\r\n      content.style.height = content.children[0].clientHeight + 'px';\r\n    }\r\n  });\r\n}\r\n</script>\r\n</div>"
          },
          "metadata": {},
          "output_type": "display_data"
        }
      ],
      "source": "%%sql --database RetailDemo --container WebsiteData --output df_cosmos\r\nSELECT c.Action, c.Price as ItemRevenue, c.Country, c.Item FROM c"
    },
    {
      "cell_type": "code",
      "execution_count": 3,
      "id": "2e0ba6ad-7740-4717-b86f-0382324f30ce",
      "metadata": {
        "collapsed": true,
        "execution": {
          "iopub.execute_input": "2021-03-11T21:16:59.995Z",
          "iopub.status.busy": "2021-03-11T21:16:59.985Z",
          "iopub.status.idle": "2021-03-11T21:17:00.173Z",
          "shell.execute_reply": "2021-03-11T21:17:00.191Z"
        },
        "jupyter": {
          "outputs_hidden": false,
          "source_hidden": false
        },
        "nteract": {
          "transient": {
            "deleting": false
          }
        },
        "trusted": true
      },
      "outputs": [
        {
          "data": {
            "text/html": "<div>\n<style scoped>\n    .dataframe tbody tr th:only-of-type {\n        vertical-align: middle;\n    }\n\n    .dataframe tbody tr th {\n        vertical-align: top;\n    }\n\n    .dataframe thead th {\n        text-align: right;\n    }\n</style>\n<table border=\"1\" class=\"dataframe\">\n  <thead>\n    <tr style=\"text-align: right;\">\n      <th></th>\n      <th>Action</th>\n      <th>ItemRevenue</th>\n      <th>Country</th>\n      <th>Item</th>\n    </tr>\n  </thead>\n  <tbody>\n    <tr>\n      <th>0</th>\n      <td>Viewed</td>\n      <td>19.99</td>\n      <td>Haiti</td>\n      <td>Flannel Shirt</td>\n    </tr>\n    <tr>\n      <th>1</th>\n      <td>Added</td>\n      <td>19.99</td>\n      <td>Haiti</td>\n      <td>Flannel Shirt</td>\n    </tr>\n    <tr>\n      <th>2</th>\n      <td>Viewed</td>\n      <td>99.99</td>\n      <td>Puerto Rico</td>\n      <td>Puffy Jacket</td>\n    </tr>\n    <tr>\n      <th>3</th>\n      <td>Added</td>\n      <td>99.99</td>\n      <td>Puerto Rico</td>\n      <td>Puffy Jacket</td>\n    </tr>\n    <tr>\n      <th>4</th>\n      <td>Viewed</td>\n      <td>85.00</td>\n      <td>Romania</td>\n      <td>Jeans</td>\n    </tr>\n    <tr>\n      <th>5</th>\n      <td>Viewed</td>\n      <td>350.00</td>\n      <td>India</td>\n      <td>Cosmos T-shirt</td>\n    </tr>\n    <tr>\n      <th>6</th>\n      <td>Viewed</td>\n      <td>8.00</td>\n      <td>South Africa</td>\n      <td>Earring</td>\n    </tr>\n    <tr>\n      <th>7</th>\n      <td>Viewed</td>\n      <td>79.99</td>\n      <td>Tunisia</td>\n      <td>Walking Shoes</td>\n    </tr>\n    <tr>\n      <th>8</th>\n      <td>Added</td>\n      <td>79.99</td>\n      <td>Tunisia</td>\n      <td>Walking Shoes</td>\n    </tr>\n    <tr>\n      <th>9</th>\n      <td>Added</td>\n      <td>30.00</td>\n      <td>Aruba</td>\n      <td>Green Sweater</td>\n    </tr>\n  </tbody>\n</table>\n</div>",
            "text/plain": "   Action  ItemRevenue       Country            Item\n0  Viewed        19.99         Haiti   Flannel Shirt\n1   Added        19.99         Haiti   Flannel Shirt\n2  Viewed        99.99   Puerto Rico    Puffy Jacket\n3   Added        99.99   Puerto Rico    Puffy Jacket\n4  Viewed        85.00       Romania           Jeans\n5  Viewed       350.00         India  Cosmos T-shirt\n6  Viewed         8.00  South Africa         Earring\n7  Viewed        79.99       Tunisia   Walking Shoes\n8   Added        79.99       Tunisia   Walking Shoes\n9   Added        30.00         Aruba   Green Sweater"
          },
          "execution_count": 3,
          "metadata": {},
          "output_type": "execute_result"
        }
      ],
      "source": "# See a sample of the result\r\ndf_cosmos.head(10)"
    },
    {
      "cell_type": "markdown",
      "id": "884a112f-c4db-4859-b2c0-53ec7408402d",
      "metadata": {
        "nteract": {
          "transient": {
            "deleting": false
          }
        }
      },
      "source": "### Visualize DataFrame"
    },
    {
      "cell_type": "code",
      "execution_count": 4,
      "id": "ce708819-6c6b-4d6c-8cb4-5add677c3057",
      "metadata": {
        "collapsed": true,
        "execution": {
          "iopub.execute_input": "2021-03-11T21:17:10.599Z",
          "iopub.status.busy": "2021-03-11T21:17:10.589Z",
          "iopub.status.idle": "2021-03-11T21:17:11.449Z",
          "shell.execute_reply": "2021-03-11T21:17:11.431Z"
        },
        "jupyter": {
          "outputs_hidden": false,
          "source_hidden": false
        },
        "nteract": {
          "transient": {
            "deleting": false
          }
        },
        "trusted": true
      },
      "outputs": [
        {
          "name": "stdout",
          "output_type": "stream",
          "text": "Requirement already satisfied: bokeh==1.4.0 in ./.local/lib/python3.6/site-packages (1.4.0)\r\nRequirement already satisfied: Jinja2>=2.7 in ./.local/lib/python3.6/site-packages (from bokeh==1.4.0) (2.11.3)\r\nRequirement already satisfied: PyYAML>=3.10 in ./.local/lib/python3.6/site-packages (from bokeh==1.4.0) (5.4.1)\r\nRequirement already satisfied: numpy>=1.7.1 in ./.local/lib/python3.6/site-packages (from bokeh==1.4.0) (1.19.5)\r\nRequirement already satisfied: packaging>=16.8 in ./.local/lib/python3.6/site-packages (from bokeh==1.4.0) (20.9)\r\nRequirement already satisfied: pillow>=4.0 in ./.local/lib/python3.6/site-packages (from bokeh==1.4.0) (8.1.0)\r\nRequirement already satisfied: python-dateutil>=2.1 in ./.local/lib/python3.6/site-packages (from bokeh==1.4.0) (2.8.1)\r\nRequirement already satisfied: six>=1.5.2 in ./.local/lib/python3.6/site-packages (from bokeh==1.4.0) (1.15.0)\r\nRequirement already satisfied: tornado>=4.3 in ./.local/lib/python3.6/site-packages (from bokeh==1.4.0) (6.1)\r\nRequirement already satisfied: MarkupSafe>=0.23 in ./.local/lib/python3.6/site-packages (from Jinja2>=2.7->bokeh==1.4.0) (1.1.1)\r\nRequirement already satisfied: pyparsing>=2.0.2 in ./.local/lib/python3.6/site-packages (from packaging>=16.8->bokeh==1.4.0) (2.4.7)\r\n"
        }
      ],
      "source": "import sys\r\n!{sys.executable} -m pip install bokeh==1.4.0 --user"
    },
    {
      "cell_type": "code",
      "execution_count": 6,
      "id": "9a331131-7c26-4b0d-8791-f1cbe02726a8",
      "metadata": {
        "collapsed": true,
        "execution": {
          "iopub.execute_input": "2021-03-11T21:19:42.197Z",
          "iopub.status.busy": "2021-03-11T21:19:42.180Z",
          "iopub.status.idle": "2021-03-11T21:19:42.590Z",
          "shell.execute_reply": "2021-03-11T21:19:42.616Z"
        },
        "jupyter": {
          "outputs_hidden": false,
          "source_hidden": false
        },
        "nteract": {
          "transient": {
            "deleting": false
          }
        },
        "trusted": true
      },
      "outputs": [
        {
          "data": {
            "text/html": "\n    <div class=\"bk-root\">\n        <a href=\"https://bokeh.org\" target=\"_blank\" class=\"bk-logo bk-logo-small bk-logo-notebook\"></a>\n        <span id=\"1142\">Loading BokehJS ...</span>\n    </div>"
          },
          "metadata": {},
          "output_type": "display_data"
        },
        {
          "data": {
            "application/javascript": "\n(function(root) {\n  function now() {\n    return new Date();\n  }\n\n  var force = true;\n\n  if (typeof root._bokeh_onload_callbacks === \"undefined\" || force === true) {\n    root._bokeh_onload_callbacks = [];\n    root._bokeh_is_loading = undefined;\n  }\n\n  var JS_MIME_TYPE = 'application/javascript';\n  var HTML_MIME_TYPE = 'text/html';\n  var EXEC_MIME_TYPE = 'application/vnd.bokehjs_exec.v0+json';\n  var CLASS_NAME = 'output_bokeh rendered_html';\n\n  /**\n   * Render data to the DOM node\n   */\n  function render(props, node) {\n    var script = document.createElement(\"script\");\n    node.appendChild(script);\n  }\n\n  /**\n   * Handle when an output is cleared or removed\n   */\n  function handleClearOutput(event, handle) {\n    var cell = handle.cell;\n\n    var id = cell.output_area._bokeh_element_id;\n    var server_id = cell.output_area._bokeh_server_id;\n    // Clean up Bokeh references\n    if (id != null && id in Bokeh.index) {\n      Bokeh.index[id].model.document.clear();\n      delete Bokeh.index[id];\n    }\n\n    if (server_id !== undefined) {\n      // Clean up Bokeh references\n      var cmd = \"from bokeh.io.state import curstate; print(curstate().uuid_to_server['\" + server_id + \"'].get_sessions()[0].document.roots[0]._id)\";\n      cell.notebook.kernel.execute(cmd, {\n        iopub: {\n          output: function(msg) {\n            var id = msg.content.text.trim();\n            if (id in Bokeh.index) {\n              Bokeh.index[id].model.document.clear();\n              delete Bokeh.index[id];\n            }\n          }\n        }\n      });\n      // Destroy server and session\n      var cmd = \"import bokeh.io.notebook as ion; ion.destroy_server('\" + server_id + \"')\";\n      cell.notebook.kernel.execute(cmd);\n    }\n  }\n\n  /**\n   * Handle when a new output is added\n   */\n  function handleAddOutput(event, handle) {\n    var output_area = handle.output_area;\n    var output = handle.output;\n\n    // limit handleAddOutput to display_data with EXEC_MIME_TYPE content only\n    if ((output.output_type != \"display_data\") || (!output.data.hasOwnProperty(EXEC_MIME_TYPE))) {\n      return\n    }\n\n    var toinsert = output_area.element.find(\".\" + CLASS_NAME.split(' ')[0]);\n\n    if (output.metadata[EXEC_MIME_TYPE][\"id\"] !== undefined) {\n      toinsert[toinsert.length - 1].firstChild.textContent = output.data[JS_MIME_TYPE];\n      // store reference to embed id on output_area\n      output_area._bokeh_element_id = output.metadata[EXEC_MIME_TYPE][\"id\"];\n    }\n    if (output.metadata[EXEC_MIME_TYPE][\"server_id\"] !== undefined) {\n      var bk_div = document.createElement(\"div\");\n      bk_div.innerHTML = output.data[HTML_MIME_TYPE];\n      var script_attrs = bk_div.children[0].attributes;\n      for (var i = 0; i < script_attrs.length; i++) {\n        toinsert[toinsert.length - 1].firstChild.setAttribute(script_attrs[i].name, script_attrs[i].value);\n      }\n      // store reference to server id on output_area\n      output_area._bokeh_server_id = output.metadata[EXEC_MIME_TYPE][\"server_id\"];\n    }\n  }\n\n  function register_renderer(events, OutputArea) {\n\n    function append_mime(data, metadata, element) {\n      // create a DOM node to render to\n      var toinsert = this.create_output_subarea(\n        metadata,\n        CLASS_NAME,\n        EXEC_MIME_TYPE\n      );\n      this.keyboard_manager.register_events(toinsert);\n      // Render to node\n      var props = {data: data, metadata: metadata[EXEC_MIME_TYPE]};\n      render(props, toinsert[toinsert.length - 1]);\n      element.append(toinsert);\n      return toinsert\n    }\n\n    /* Handle when an output is cleared or removed */\n    events.on('clear_output.CodeCell', handleClearOutput);\n    events.on('delete.Cell', handleClearOutput);\n\n    /* Handle when a new output is added */\n    events.on('output_added.OutputArea', handleAddOutput);\n\n    /**\n     * Register the mime type and append_mime function with output_area\n     */\n    OutputArea.prototype.register_mime_type(EXEC_MIME_TYPE, append_mime, {\n      /* Is output safe? */\n      safe: true,\n      /* Index of renderer in `output_area.display_order` */\n      index: 0\n    });\n  }\n\n  // register the mime type if in Jupyter Notebook environment and previously unregistered\n  if (root.Jupyter !== undefined) {\n    var events = require('base/js/events');\n    var OutputArea = require('notebook/js/outputarea').OutputArea;\n\n    if (OutputArea.prototype.mime_types().indexOf(EXEC_MIME_TYPE) == -1) {\n      register_renderer(events, OutputArea);\n    }\n  }\n\n  \n  if (typeof (root._bokeh_timeout) === \"undefined\" || force === true) {\n    root._bokeh_timeout = Date.now() + 5000;\n    root._bokeh_failed_load = false;\n  }\n\n  var NB_LOAD_WARNING = {'data': {'text/html':\n     \"<div style='background-color: #fdd'>\\n\"+\n     \"<p>\\n\"+\n     \"BokehJS does not appear to have successfully loaded. If loading BokehJS from CDN, this \\n\"+\n     \"may be due to a slow or bad network connection. Possible fixes:\\n\"+\n     \"</p>\\n\"+\n     \"<ul>\\n\"+\n     \"<li>re-rerun `output_notebook()` to attempt to load from CDN again, or</li>\\n\"+\n     \"<li>use INLINE resources instead, as so:</li>\\n\"+\n     \"</ul>\\n\"+\n     \"<code>\\n\"+\n     \"from bokeh.resources import INLINE\\n\"+\n     \"output_notebook(resources=INLINE)\\n\"+\n     \"</code>\\n\"+\n     \"</div>\"}};\n\n  function display_loaded() {\n    var el = document.getElementById(\"1142\");\n    if (el != null) {\n      el.textContent = \"BokehJS is loading...\";\n    }\n    if (root.Bokeh !== undefined) {\n      if (el != null) {\n        el.textContent = \"BokehJS \" + root.Bokeh.version + \" successfully loaded.\";\n      }\n    } else if (Date.now() < root._bokeh_timeout) {\n      setTimeout(display_loaded, 100)\n    }\n  }\n\n\n  function run_callbacks() {\n    try {\n      root._bokeh_onload_callbacks.forEach(function(callback) {\n        if (callback != null)\n          callback();\n      });\n    } finally {\n      delete root._bokeh_onload_callbacks\n    }\n    console.debug(\"Bokeh: all callbacks have finished\");\n  }\n\n  function load_libs(css_urls, js_urls, callback) {\n    if (css_urls == null) css_urls = [];\n    if (js_urls == null) js_urls = [];\n\n    root._bokeh_onload_callbacks.push(callback);\n    if (root._bokeh_is_loading > 0) {\n      console.debug(\"Bokeh: BokehJS is being loaded, scheduling callback at\", now());\n      return null;\n    }\n    if (js_urls == null || js_urls.length === 0) {\n      run_callbacks();\n      return null;\n    }\n    console.debug(\"Bokeh: BokehJS not loaded, scheduling load and callback at\", now());\n    root._bokeh_is_loading = css_urls.length + js_urls.length;\n\n    function on_load() {\n      root._bokeh_is_loading--;\n      if (root._bokeh_is_loading === 0) {\n        console.debug(\"Bokeh: all BokehJS libraries/stylesheets loaded\");\n        run_callbacks()\n      }\n    }\n\n    function on_error() {\n      console.error(\"failed to load \" + url);\n    }\n\n    for (var i = 0; i < css_urls.length; i++) {\n      var url = css_urls[i];\n      const element = document.createElement(\"link\");\n      element.onload = on_load;\n      element.onerror = on_error;\n      element.rel = \"stylesheet\";\n      element.type = \"text/css\";\n      element.href = url;\n      console.debug(\"Bokeh: injecting link tag for BokehJS stylesheet: \", url);\n      document.body.appendChild(element);\n    }\n\n    for (var i = 0; i < js_urls.length; i++) {\n      var url = js_urls[i];\n      var element = document.createElement('script');\n      element.onload = on_load;\n      element.onerror = on_error;\n      element.async = false;\n      element.src = url;\n      console.debug(\"Bokeh: injecting script tag for BokehJS library: \", url);\n      document.head.appendChild(element);\n    }\n  };var element = document.getElementById(\"1142\");\n  if (element == null) {\n    console.error(\"Bokeh: ERROR: autoload.js configured with elementid '1142' but no matching script tag was found. \")\n    return false;\n  }\n\n  function inject_raw_css(css) {\n    const element = document.createElement(\"style\");\n    element.appendChild(document.createTextNode(css));\n    document.body.appendChild(element);\n  }\n\n  \n  var js_urls = [\"https://cdn.pydata.org/bokeh/release/bokeh-1.4.0.min.js\", \"https://cdn.pydata.org/bokeh/release/bokeh-widgets-1.4.0.min.js\", \"https://cdn.pydata.org/bokeh/release/bokeh-tables-1.4.0.min.js\", \"https://cdn.pydata.org/bokeh/release/bokeh-gl-1.4.0.min.js\"];\n  var css_urls = [];\n  \n\n  var inline_js = [\n    function(Bokeh) {\n      Bokeh.set_log_level(\"info\");\n    },\n    function(Bokeh) {\n    \n    \n    }\n  ];\n\n  function run_inline_js() {\n    \n    if (root.Bokeh !== undefined || force === true) {\n      \n    for (var i = 0; i < inline_js.length; i++) {\n      inline_js[i].call(root, root.Bokeh);\n    }\n    if (force === true) {\n        display_loaded();\n      }} else if (Date.now() < root._bokeh_timeout) {\n      setTimeout(run_inline_js, 100);\n    } else if (!root._bokeh_failed_load) {\n      console.log(\"Bokeh: BokehJS failed to load within specified timeout.\");\n      root._bokeh_failed_load = true;\n    } else if (force !== true) {\n      var cell = $(document.getElementById(\"1142\")).parents('.cell').data().cell;\n      cell.output_area.append_execute_result(NB_LOAD_WARNING)\n    }\n\n  }\n\n  if (root._bokeh_is_loading === 0) {\n    console.debug(\"Bokeh: BokehJS loaded, going straight to plotting\");\n    run_inline_js();\n  } else {\n    load_libs(css_urls, js_urls, function() {\n      console.debug(\"Bokeh: BokehJS plotting callback run at\", now());\n      run_inline_js();\n    });\n  }\n}(window));",
            "application/vnd.bokehjs_load.v0+json": "\n(function(root) {\n  function now() {\n    return new Date();\n  }\n\n  var force = true;\n\n  if (typeof root._bokeh_onload_callbacks === \"undefined\" || force === true) {\n    root._bokeh_onload_callbacks = [];\n    root._bokeh_is_loading = undefined;\n  }\n\n  \n\n  \n  if (typeof (root._bokeh_timeout) === \"undefined\" || force === true) {\n    root._bokeh_timeout = Date.now() + 5000;\n    root._bokeh_failed_load = false;\n  }\n\n  var NB_LOAD_WARNING = {'data': {'text/html':\n     \"<div style='background-color: #fdd'>\\n\"+\n     \"<p>\\n\"+\n     \"BokehJS does not appear to have successfully loaded. If loading BokehJS from CDN, this \\n\"+\n     \"may be due to a slow or bad network connection. Possible fixes:\\n\"+\n     \"</p>\\n\"+\n     \"<ul>\\n\"+\n     \"<li>re-rerun `output_notebook()` to attempt to load from CDN again, or</li>\\n\"+\n     \"<li>use INLINE resources instead, as so:</li>\\n\"+\n     \"</ul>\\n\"+\n     \"<code>\\n\"+\n     \"from bokeh.resources import INLINE\\n\"+\n     \"output_notebook(resources=INLINE)\\n\"+\n     \"</code>\\n\"+\n     \"</div>\"}};\n\n  function display_loaded() {\n    var el = document.getElementById(\"1142\");\n    if (el != null) {\n      el.textContent = \"BokehJS is loading...\";\n    }\n    if (root.Bokeh !== undefined) {\n      if (el != null) {\n        el.textContent = \"BokehJS \" + root.Bokeh.version + \" successfully loaded.\";\n      }\n    } else if (Date.now() < root._bokeh_timeout) {\n      setTimeout(display_loaded, 100)\n    }\n  }\n\n\n  function run_callbacks() {\n    try {\n      root._bokeh_onload_callbacks.forEach(function(callback) {\n        if (callback != null)\n          callback();\n      });\n    } finally {\n      delete root._bokeh_onload_callbacks\n    }\n    console.debug(\"Bokeh: all callbacks have finished\");\n  }\n\n  function load_libs(css_urls, js_urls, callback) {\n    if (css_urls == null) css_urls = [];\n    if (js_urls == null) js_urls = [];\n\n    root._bokeh_onload_callbacks.push(callback);\n    if (root._bokeh_is_loading > 0) {\n      console.debug(\"Bokeh: BokehJS is being loaded, scheduling callback at\", now());\n      return null;\n    }\n    if (js_urls == null || js_urls.length === 0) {\n      run_callbacks();\n      return null;\n    }\n    console.debug(\"Bokeh: BokehJS not loaded, scheduling load and callback at\", now());\n    root._bokeh_is_loading = css_urls.length + js_urls.length;\n\n    function on_load() {\n      root._bokeh_is_loading--;\n      if (root._bokeh_is_loading === 0) {\n        console.debug(\"Bokeh: all BokehJS libraries/stylesheets loaded\");\n        run_callbacks()\n      }\n    }\n\n    function on_error() {\n      console.error(\"failed to load \" + url);\n    }\n\n    for (var i = 0; i < css_urls.length; i++) {\n      var url = css_urls[i];\n      const element = document.createElement(\"link\");\n      element.onload = on_load;\n      element.onerror = on_error;\n      element.rel = \"stylesheet\";\n      element.type = \"text/css\";\n      element.href = url;\n      console.debug(\"Bokeh: injecting link tag for BokehJS stylesheet: \", url);\n      document.body.appendChild(element);\n    }\n\n    for (var i = 0; i < js_urls.length; i++) {\n      var url = js_urls[i];\n      var element = document.createElement('script');\n      element.onload = on_load;\n      element.onerror = on_error;\n      element.async = false;\n      element.src = url;\n      console.debug(\"Bokeh: injecting script tag for BokehJS library: \", url);\n      document.head.appendChild(element);\n    }\n  };var element = document.getElementById(\"1142\");\n  if (element == null) {\n    console.error(\"Bokeh: ERROR: autoload.js configured with elementid '1142' but no matching script tag was found. \")\n    return false;\n  }\n\n  function inject_raw_css(css) {\n    const element = document.createElement(\"style\");\n    element.appendChild(document.createTextNode(css));\n    document.body.appendChild(element);\n  }\n\n  \n  var js_urls = [\"https://cdn.pydata.org/bokeh/release/bokeh-1.4.0.min.js\", \"https://cdn.pydata.org/bokeh/release/bokeh-widgets-1.4.0.min.js\", \"https://cdn.pydata.org/bokeh/release/bokeh-tables-1.4.0.min.js\", \"https://cdn.pydata.org/bokeh/release/bokeh-gl-1.4.0.min.js\"];\n  var css_urls = [];\n  \n\n  var inline_js = [\n    function(Bokeh) {\n      Bokeh.set_log_level(\"info\");\n    },\n    function(Bokeh) {\n    \n    \n    }\n  ];\n\n  function run_inline_js() {\n    \n    if (root.Bokeh !== undefined || force === true) {\n      \n    for (var i = 0; i < inline_js.length; i++) {\n      inline_js[i].call(root, root.Bokeh);\n    }\n    if (force === true) {\n        display_loaded();\n      }} else if (Date.now() < root._bokeh_timeout) {\n      setTimeout(run_inline_js, 100);\n    } else if (!root._bokeh_failed_load) {\n      console.log(\"Bokeh: BokehJS failed to load within specified timeout.\");\n      root._bokeh_failed_load = true;\n    } else if (force !== true) {\n      var cell = $(document.getElementById(\"1142\")).parents('.cell').data().cell;\n      cell.output_area.append_execute_result(NB_LOAD_WARNING)\n    }\n\n  }\n\n  if (root._bokeh_is_loading === 0) {\n    console.debug(\"Bokeh: BokehJS loaded, going straight to plotting\");\n    run_inline_js();\n  } else {\n    load_libs(css_urls, js_urls, function() {\n      console.debug(\"Bokeh: BokehJS plotting callback run at\", now());\n      run_inline_js();\n    });\n  }\n}(window));"
          },
          "metadata": {},
          "output_type": "display_data"
        },
        {
          "data": {
            "text/html": "\n\n\n\n\n\n  <div class=\"bk-root\" id=\"ebde21ed-9b8d-4d1d-9c9c-2724692b41e0\" data-root-id=\"1102\"></div>\n"
          },
          "metadata": {},
          "output_type": "display_data"
        },
        {
          "data": {
            "application/javascript": "(function(root) {\n  function embed_document(root) {\n    \n  var docs_json = {\"c1e64274-dcc4-452a-9870-668c17087fd5\":{\"roots\":{\"references\":[{\"attributes\":{\"below\":[{\"id\":\"1112\",\"type\":\"CategoricalAxis\"}],\"center\":[{\"id\":\"1115\",\"type\":\"Grid\"},{\"id\":\"1120\",\"type\":\"Grid\"}],\"left\":[{\"id\":\"1116\",\"type\":\"LinearAxis\"}],\"outline_line_color\":{\"value\":\"black\"},\"plot_height\":500,\"plot_width\":1200,\"renderers\":[{\"id\":\"1140\",\"type\":\"GlyphRenderer\"}],\"title\":{\"id\":\"1103\",\"type\":\"Title\"},\"toolbar\":{\"id\":\"1128\",\"type\":\"Toolbar\"},\"toolbar_location\":null,\"x_range\":{\"id\":\"1101\",\"type\":\"FactorRange\"},\"x_scale\":{\"id\":\"1108\",\"type\":\"CategoricalScale\"},\"y_range\":{\"id\":\"1106\",\"type\":\"DataRange1d\"},\"y_scale\":{\"id\":\"1110\",\"type\":\"LinearScale\"}},\"id\":\"1102\",\"subtype\":\"Figure\",\"type\":\"Plot\"},{\"attributes\":{},\"id\":\"1122\",\"type\":\"WheelZoomTool\"},{\"attributes\":{\"data_source\":{\"id\":\"1136\",\"type\":\"ColumnDataSource\"},\"glyph\":{\"id\":\"1138\",\"type\":\"VBar\"},\"hover_glyph\":null,\"muted_glyph\":null,\"nonselection_glyph\":{\"id\":\"1139\",\"type\":\"VBar\"},\"selection_glyph\":null,\"view\":{\"id\":\"1141\",\"type\":\"CDSView\"}},\"id\":\"1140\",\"type\":\"GlyphRenderer\"},{\"attributes\":{\"overlay\":{\"id\":\"1156\",\"type\":\"BoxAnnotation\"}},\"id\":\"1123\",\"type\":\"BoxZoomTool\"},{\"attributes\":{\"fill_alpha\":{\"value\":0.1},\"fill_color\":{\"value\":\"#1f77b4\"},\"line_alpha\":{\"value\":0.1},\"line_color\":{\"value\":\"#1f77b4\"},\"top\":{\"field\":\"ItemRevenue_max\"},\"width\":{\"value\":1},\"x\":{\"field\":\"Item_Action\"}},\"id\":\"1139\",\"type\":\"VBar\"},{\"attributes\":{},\"id\":\"1125\",\"type\":\"ResetTool\"},{\"attributes\":{\"active_drag\":\"auto\",\"active_inspect\":\"auto\",\"active_multi\":null,\"active_scroll\":\"auto\",\"active_tap\":\"auto\",\"tools\":[{\"id\":\"1121\",\"type\":\"PanTool\"},{\"id\":\"1122\",\"type\":\"WheelZoomTool\"},{\"id\":\"1123\",\"type\":\"BoxZoomTool\"},{\"id\":\"1124\",\"type\":\"SaveTool\"},{\"id\":\"1125\",\"type\":\"ResetTool\"},{\"id\":\"1126\",\"type\":\"HelpTool\"},{\"id\":\"1127\",\"type\":\"HoverTool\"}]},\"id\":\"1128\",\"type\":\"Toolbar\"},{\"attributes\":{},\"id\":\"1154\",\"type\":\"BasicTickFormatter\"},{\"attributes\":{\"end\":2,\"factors\":[\"Added\",\"Purchased\",\"Viewed\"],\"palette\":[\"#99d594\",\"#ffffbf\",\"#fc8d59\"],\"start\":1},\"id\":\"1100\",\"type\":\"CategoricalColorMapper\"},{\"attributes\":{\"fill_color\":{\"field\":\"Item_Action\",\"transform\":{\"id\":\"1100\",\"type\":\"CategoricalColorMapper\"}},\"line_color\":{\"value\":\"white\"},\"top\":{\"field\":\"ItemRevenue_max\"},\"width\":{\"value\":1},\"x\":{\"field\":\"Item_Action\"}},\"id\":\"1138\",\"type\":\"VBar\"},{\"attributes\":{},\"id\":\"1117\",\"type\":\"BasicTicker\"},{\"attributes\":{\"source\":{\"id\":\"1136\",\"type\":\"ColumnDataSource\"}},\"id\":\"1141\",\"type\":\"CDSView\"},{\"attributes\":{\"axis_label\":\"Item\",\"formatter\":{\"id\":\"1152\",\"type\":\"CategoricalTickFormatter\"},\"major_label_orientation\":1.2,\"ticker\":{\"id\":\"1113\",\"type\":\"CategoricalTicker\"}},\"id\":\"1112\",\"type\":\"CategoricalAxis\"},{\"attributes\":{},\"id\":\"1157\",\"type\":\"UnionRenderers\"},{\"attributes\":{},\"id\":\"1126\",\"type\":\"HelpTool\"},{\"attributes\":{},\"id\":\"1108\",\"type\":\"CategoricalScale\"},{\"attributes\":{\"callback\":null,\"factors\":[[\"Suit Pant\",\"Viewed\"],[\"Suit Pant\",\"Added\"],[\"Suit Pant\",\"Purchased\"],[\"Puffy Jacket\",\"Viewed\"],[\"Puffy Jacket\",\"Added\"],[\"Puffy Jacket\",\"Purchased\"],[\"Light Jeans\",\"Viewed\"],[\"Light Jeans\",\"Added\"],[\"Light Jeans\",\"Purchased\"],[\"Crewneck Sweater\",\"Viewed\"],[\"Crewneck Sweater\",\"Added\"],[\"Crewneck Sweater\",\"Purchased\"],[\"Black Hoodie\",\"Viewed\"],[\"Black Hoodie\",\"Added\"],[\"Black Hoodie\",\"Purchased\"],[\"Beanie\",\"Viewed\"],[\"Beanie\",\"Added\"],[\"Beanie\",\"Purchased\"],[\"Bag\",\"Viewed\"],[\"Bag\",\"Added\"],[\"Bag\",\"Purchased\"],[\"Athletic Shorts\",\"Viewed\"],[\"Athletic Shorts\",\"Added\"],[\"Athletic Shorts\",\"Purchased\"],[\"Athletic Shoes\",\"Viewed\"],[\"Athletic Shoes\",\"Added\"],[\"Athletic Shoes\",\"Purchased\"],[\" Flip Flop Shoes\",\"Viewed\"],[\" Flip Flop Shoes\",\"Added\"],[\" Flip Flop Shoes\",\"Purchased\"]],\"range_padding\":0.05},\"id\":\"1101\",\"type\":\"FactorRange\"},{\"attributes\":{},\"id\":\"1124\",\"type\":\"SaveTool\"},{\"attributes\":{\"bottom_units\":\"screen\",\"fill_alpha\":{\"value\":0.5},\"fill_color\":{\"value\":\"lightgrey\"},\"left_units\":\"screen\",\"level\":\"overlay\",\"line_alpha\":{\"value\":1.0},\"line_color\":{\"value\":\"black\"},\"line_dash\":[4,4],\"line_width\":{\"value\":2},\"render_mode\":\"css\",\"right_units\":\"screen\",\"top_units\":\"screen\"},\"id\":\"1156\",\"type\":\"BoxAnnotation\"},{\"attributes\":{\"grid_line_color\":null,\"ticker\":{\"id\":\"1113\",\"type\":\"CategoricalTicker\"}},\"id\":\"1115\",\"type\":\"Grid\"},{\"attributes\":{},\"id\":\"1113\",\"type\":\"CategoricalTicker\"},{\"attributes\":{\"callback\":null,\"data\":{\"ItemRevenue_25%\":{\"__ndarray__\":\"AAAAAAAANkAAAAAAAAAmQAAAAAAAgEBAAAAAAAAAQ0AAAAAAAAA0QAAAAAAAgEpAAAAAAAAAREAAAAAAAAAzQAAAAAAAgE1AAAAAAAAAMkAAAAAAAAAmQAAAAAAAAD1AAAAAAAAAMEAAAAAAAAAkQAAAAAAAADlAAAAAAAAANEAAAAAAAAAoQAAAAAAAADpAAAAAAAAAO0AAAAAAAAAsQAAAAAAAgEJAAAAAAAAAOEAAAAAAAAAqQAAAAAAAAEBAAAAAAACATEAAAAAAAAA5QAAAAAAAwFVAAAAAAAAAM0AAAAAAAAAmQAAAAAAAADxA\",\"dtype\":\"float64\",\"shape\":[30]},\"ItemRevenue_50%\":{\"__ndarray__\":\"AAAAAAAANkAAAAAAAAAmQAAAAAAAgEBAAAAAAAAAQ0AAAAAAAAA0QAAAAAAAgEpAAAAAAAAAREAAAAAAAAAzQAAAAAAAgE1AAAAAAAAAMkAAAAAAAAAmQAAAAAAAAD1AAAAAAAAAMEAAAAAAAAAkQAAAAAAAADlAAAAAAAAANEAAAAAAAAAoQAAAAAAAADpAAAAAAAAAO0AAAAAAAAAsQAAAAAAAgEJAAAAAAAAAOEAAAAAAAAAqQAAAAAAAAEBAAAAAAACATEAAAAAAAAA5QAAAAAAAwFVAAAAAAAAAM0AAAAAAAAAmQAAAAAAAADxA\",\"dtype\":\"float64\",\"shape\":[30]},\"ItemRevenue_75%\":{\"__ndarray__\":\"AAAAAAAANkAAAAAAAAAmQAAAAAAAgEBAAAAAAAAAQ0AAAAAAAAA0QAAAAAAAgEpAAAAAAAAAREAAAAAAAAAzQAAAAAAAgE1AAAAAAAAAMkAAAAAAAAAmQAAAAAAAAD1AAAAAAAAAMEAAAAAAAAAkQAAAAAAAADlAAAAAAAAANEAAAAAAAAAoQAAAAAAAADpAAAAAAAAAO0AAAAAAAAAsQAAAAAAAgEJAAAAAAAAAOEAAAAAAAAAqQAAAAAAAAEBAAAAAAACATEAAAAAAAAA5QAAAAAAAwFVAAAAAAAAAM0AAAAAAAAAmQAAAAAAAADxA\",\"dtype\":\"float64\",\"shape\":[30]},\"ItemRevenue_count\":{\"__ndarray__\":\"AAAAAAAA8D8AAAAAAADwPwAAAAAAAPA/AAAAAAAA8D8AAAAAAADwPwAAAAAAAPA/AAAAAAAA8D8AAAAAAADwPwAAAAAAAPA/AAAAAAAA8D8AAAAAAADwPwAAAAAAAPA/AAAAAAAA8D8AAAAAAADwPwAAAAAAAPA/AAAAAAAA8D8AAAAAAADwPwAAAAAAAPA/AAAAAAAA8D8AAAAAAADwPwAAAAAAAPA/AAAAAAAA8D8AAAAAAADwPwAAAAAAAPA/AAAAAAAA8D8AAAAAAADwPwAAAAAAAPA/AAAAAAAA8D8AAAAAAADwPwAAAAAAAPA/\",\"dtype\":\"float64\",\"shape\":[30]},\"ItemRevenue_max\":{\"__ndarray__\":\"AAAAAAAANkAAAAAAAAAmQAAAAAAAgEBAAAAAAAAAQ0AAAAAAAAA0QAAAAAAAgEpAAAAAAAAAREAAAAAAAAAzQAAAAAAAgE1AAAAAAAAAMkAAAAAAAAAmQAAAAAAAAD1AAAAAAAAAMEAAAAAAAAAkQAAAAAAAADlAAAAAAAAANEAAAAAAAAAoQAAAAAAAADpAAAAAAAAAO0AAAAAAAAAsQAAAAAAAgEJAAAAAAAAAOEAAAAAAAAAqQAAAAAAAAEBAAAAAAACATEAAAAAAAAA5QAAAAAAAwFVAAAAAAAAAM0AAAAAAAAAmQAAAAAAAADxA\",\"dtype\":\"float64\",\"shape\":[30]},\"ItemRevenue_mean\":{\"__ndarray__\":\"AAAAAAAANkAAAAAAAAAmQAAAAAAAgEBAAAAAAAAAQ0AAAAAAAAA0QAAAAAAAgEpAAAAAAAAAREAAAAAAAAAzQAAAAAAAgE1AAAAAAAAAMkAAAAAAAAAmQAAAAAAAAD1AAAAAAAAAMEAAAAAAAAAkQAAAAAAAADlAAAAAAAAANEAAAAAAAAAoQAAAAAAAADpAAAAAAAAAO0AAAAAAAAAsQAAAAAAAgEJAAAAAAAAAOEAAAAAAAAAqQAAAAAAAAEBAAAAAAACATEAAAAAAAAA5QAAAAAAAwFVAAAAAAAAAM0AAAAAAAAAmQAAAAAAAADxA\",\"dtype\":\"float64\",\"shape\":[30]},\"ItemRevenue_min\":{\"__ndarray__\":\"AAAAAAAANkAAAAAAAAAmQAAAAAAAgEBAAAAAAAAAQ0AAAAAAAAA0QAAAAAAAgEpAAAAAAAAAREAAAAAAAAAzQAAAAAAAgE1AAAAAAAAAMkAAAAAAAAAmQAAAAAAAAD1AAAAAAAAAMEAAAAAAAAAkQAAAAAAAADlAAAAAAAAANEAAAAAAAAAoQAAAAAAAADpAAAAAAAAAO0AAAAAAAAAsQAAAAAAAgEJAAAAAAAAAOEAAAAAAAAAqQAAAAAAAAEBAAAAAAACATEAAAAAAAAA5QAAAAAAAwFVAAAAAAAAAM0AAAAAAAAAmQAAAAAAAADxA\",\"dtype\":\"float64\",\"shape\":[30]},\"ItemRevenue_std\":{\"__ndarray__\":\"AAAAAAAA+H8AAAAAAAD4fwAAAAAAAPh/AAAAAAAA+H8AAAAAAAD4fwAAAAAAAPh/AAAAAAAA+H8AAAAAAAD4fwAAAAAAAPh/AAAAAAAA+H8AAAAAAAD4fwAAAAAAAPh/AAAAAAAA+H8AAAAAAAD4fwAAAAAAAPh/AAAAAAAA+H8AAAAAAAD4fwAAAAAAAPh/AAAAAAAA+H8AAAAAAAD4fwAAAAAAAPh/AAAAAAAA+H8AAAAAAAD4fwAAAAAAAPh/AAAAAAAA+H8AAAAAAAD4fwAAAAAAAPh/AAAAAAAA+H8AAAAAAAD4fwAAAAAAAPh/\",\"dtype\":\"float64\",\"shape\":[30]},\"Item_Action\":[[\" Flip Flop Shoes\",\"Added\"],[\" Flip Flop Shoes\",\"Purchased\"],[\" Flip Flop Shoes\",\"Viewed\"],[\"Athletic Shoes\",\"Added\"],[\"Athletic Shoes\",\"Purchased\"],[\"Athletic Shoes\",\"Viewed\"],[\"Athletic Shorts\",\"Added\"],[\"Athletic Shorts\",\"Purchased\"],[\"Athletic Shorts\",\"Viewed\"],[\"Bag\",\"Added\"],[\"Bag\",\"Purchased\"],[\"Bag\",\"Viewed\"],[\"Beanie\",\"Added\"],[\"Beanie\",\"Purchased\"],[\"Beanie\",\"Viewed\"],[\"Black Hoodie\",\"Added\"],[\"Black Hoodie\",\"Purchased\"],[\"Black Hoodie\",\"Viewed\"],[\"Crewneck Sweater\",\"Added\"],[\"Crewneck Sweater\",\"Purchased\"],[\"Crewneck Sweater\",\"Viewed\"],[\"Light Jeans\",\"Added\"],[\"Light Jeans\",\"Purchased\"],[\"Light Jeans\",\"Viewed\"],[\"Puffy Jacket\",\"Added\"],[\"Puffy Jacket\",\"Purchased\"],[\"Puffy Jacket\",\"Viewed\"],[\"Suit Pant\",\"Added\"],[\"Suit Pant\",\"Purchased\"],[\"Suit Pant\",\"Viewed\"]],\"ResultCount_25%\":{\"__ndarray__\":\"AAAAAAAANkAAAAAAAAAmQAAAAAAAgEBAAAAAAAAAQ0AAAAAAAAA0QAAAAAAAgEpAAAAAAAAAREAAAAAAAAAzQAAAAAAAgE1AAAAAAAAAMkAAAAAAAAAmQAAAAAAAAD1AAAAAAAAAMEAAAAAAAAAkQAAAAAAAADlAAAAAAAAANEAAAAAAAAAoQAAAAAAAADpAAAAAAAAAO0AAAAAAAAAsQAAAAAAAgEJAAAAAAAAAOEAAAAAAAAAqQAAAAAAAAEBAAAAAAACATEAAAAAAAAA5QAAAAAAAwFVAAAAAAAAAM0AAAAAAAAAmQAAAAAAAADxA\",\"dtype\":\"float64\",\"shape\":[30]},\"ResultCount_50%\":{\"__ndarray__\":\"AAAAAAAANkAAAAAAAAAmQAAAAAAAgEBAAAAAAAAAQ0AAAAAAAAA0QAAAAAAAgEpAAAAAAAAAREAAAAAAAAAzQAAAAAAAgE1AAAAAAAAAMkAAAAAAAAAmQAAAAAAAAD1AAAAAAAAAMEAAAAAAAAAkQAAAAAAAADlAAAAAAAAANEAAAAAAAAAoQAAAAAAAADpAAAAAAAAAO0AAAAAAAAAsQAAAAAAAgEJAAAAAAAAAOEAAAAAAAAAqQAAAAAAAAEBAAAAAAACATEAAAAAAAAA5QAAAAAAAwFVAAAAAAAAAM0AAAAAAAAAmQAAAAAAAADxA\",\"dtype\":\"float64\",\"shape\":[30]},\"ResultCount_75%\":{\"__ndarray__\":\"AAAAAAAANkAAAAAAAAAmQAAAAAAAgEBAAAAAAAAAQ0AAAAAAAAA0QAAAAAAAgEpAAAAAAAAAREAAAAAAAAAzQAAAAAAAgE1AAAAAAAAAMkAAAAAAAAAmQAAAAAAAAD1AAAAAAAAAMEAAAAAAAAAkQAAAAAAAADlAAAAAAAAANEAAAAAAAAAoQAAAAAAAADpAAAAAAAAAO0AAAAAAAAAsQAAAAAAAgEJAAAAAAAAAOEAAAAAAAAAqQAAAAAAAAEBAAAAAAACATEAAAAAAAAA5QAAAAAAAwFVAAAAAAAAAM0AAAAAAAAAmQAAAAAAAADxA\",\"dtype\":\"float64\",\"shape\":[30]},\"ResultCount_count\":{\"__ndarray__\":\"AAAAAAAA8D8AAAAAAADwPwAAAAAAAPA/AAAAAAAA8D8AAAAAAADwPwAAAAAAAPA/AAAAAAAA8D8AAAAAAADwPwAAAAAAAPA/AAAAAAAA8D8AAAAAAADwPwAAAAAAAPA/AAAAAAAA8D8AAAAAAADwPwAAAAAAAPA/AAAAAAAA8D8AAAAAAADwPwAAAAAAAPA/AAAAAAAA8D8AAAAAAADwPwAAAAAAAPA/AAAAAAAA8D8AAAAAAADwPwAAAAAAAPA/AAAAAAAA8D8AAAAAAADwPwAAAAAAAPA/AAAAAAAA8D8AAAAAAADwPwAAAAAAAPA/\",\"dtype\":\"float64\",\"shape\":[30]},\"ResultCount_max\":{\"__ndarray__\":\"AAAAAAAANkAAAAAAAAAmQAAAAAAAgEBAAAAAAAAAQ0AAAAAAAAA0QAAAAAAAgEpAAAAAAAAAREAAAAAAAAAzQAAAAAAAgE1AAAAAAAAAMkAAAAAAAAAmQAAAAAAAAD1AAAAAAAAAMEAAAAAAAAAkQAAAAAAAADlAAAAAAAAANEAAAAAAAAAoQAAAAAAAADpAAAAAAAAAO0AAAAAAAAAsQAAAAAAAgEJAAAAAAAAAOEAAAAAAAAAqQAAAAAAAAEBAAAAAAACATEAAAAAAAAA5QAAAAAAAwFVAAAAAAAAAM0AAAAAAAAAmQAAAAAAAADxA\",\"dtype\":\"float64\",\"shape\":[30]},\"ResultCount_mean\":{\"__ndarray__\":\"AAAAAAAANkAAAAAAAAAmQAAAAAAAgEBAAAAAAAAAQ0AAAAAAAAA0QAAAAAAAgEpAAAAAAAAAREAAAAAAAAAzQAAAAAAAgE1AAAAAAAAAMkAAAAAAAAAmQAAAAAAAAD1AAAAAAAAAMEAAAAAAAAAkQAAAAAAAADlAAAAAAAAANEAAAAAAAAAoQAAAAAAAADpAAAAAAAAAO0AAAAAAAAAsQAAAAAAAgEJAAAAAAAAAOEAAAAAAAAAqQAAAAAAAAEBAAAAAAACATEAAAAAAAAA5QAAAAAAAwFVAAAAAAAAAM0AAAAAAAAAmQAAAAAAAADxA\",\"dtype\":\"float64\",\"shape\":[30]},\"ResultCount_min\":{\"__ndarray__\":\"AAAAAAAANkAAAAAAAAAmQAAAAAAAgEBAAAAAAAAAQ0AAAAAAAAA0QAAAAAAAgEpAAAAAAAAAREAAAAAAAAAzQAAAAAAAgE1AAAAAAAAAMkAAAAAAAAAmQAAAAAAAAD1AAAAAAAAAMEAAAAAAAAAkQAAAAAAAADlAAAAAAAAANEAAAAAAAAAoQAAAAAAAADpAAAAAAAAAO0AAAAAAAAAsQAAAAAAAgEJAAAAAAAAAOEAAAAAAAAAqQAAAAAAAAEBAAAAAAACATEAAAAAAAAA5QAAAAAAAwFVAAAAAAAAAM0AAAAAAAAAmQAAAAAAAADxA\",\"dtype\":\"float64\",\"shape\":[30]},\"ResultCount_std\":{\"__ndarray__\":\"AAAAAAAA+H8AAAAAAAD4fwAAAAAAAPh/AAAAAAAA+H8AAAAAAAD4fwAAAAAAAPh/AAAAAAAA+H8AAAAAAAD4fwAAAAAAAPh/AAAAAAAA+H8AAAAAAAD4fwAAAAAAAPh/AAAAAAAA+H8AAAAAAAD4fwAAAAAAAPh/AAAAAAAA+H8AAAAAAAD4fwAAAAAAAPh/AAAAAAAA+H8AAAAAAAD4fwAAAAAAAPh/AAAAAAAA+H8AAAAAAAD4fwAAAAAAAPh/AAAAAAAA+H8AAAAAAAD4fwAAAAAAAPh/AAAAAAAA+H8AAAAAAAD4fwAAAAAAAPh/\",\"dtype\":\"float64\",\"shape\":[30]}},\"selected\":{\"id\":\"1158\",\"type\":\"Selection\"},\"selection_policy\":{\"id\":\"1157\",\"type\":\"UnionRenderers\"}},\"id\":\"1136\",\"type\":\"ColumnDataSource\"},{\"attributes\":{},\"id\":\"1152\",\"type\":\"CategoricalTickFormatter\"},{\"attributes\":{\"callback\":null,\"tooltips\":[[\"Number of events\",\"@ResultCount_max\"],[\"Item, Action\",\"@Item_Action\"]]},\"id\":\"1127\",\"type\":\"HoverTool\"},{\"attributes\":{\"callback\":null,\"start\":0},\"id\":\"1106\",\"type\":\"DataRange1d\"},{\"attributes\":{},\"id\":\"1121\",\"type\":\"PanTool\"},{\"attributes\":{},\"id\":\"1158\",\"type\":\"Selection\"},{\"attributes\":{\"text\":\"Conversion rate of items from View -> Add to cart -> Purchase\"},\"id\":\"1103\",\"type\":\"Title\"},{\"attributes\":{\"dimension\":1,\"ticker\":{\"id\":\"1117\",\"type\":\"BasicTicker\"}},\"id\":\"1120\",\"type\":\"Grid\"},{\"attributes\":{},\"id\":\"1110\",\"type\":\"LinearScale\"},{\"attributes\":{\"axis_label\":\"Count\",\"formatter\":{\"id\":\"1154\",\"type\":\"BasicTickFormatter\"},\"ticker\":{\"id\":\"1117\",\"type\":\"BasicTicker\"}},\"id\":\"1116\",\"type\":\"LinearAxis\"}],\"root_ids\":[\"1102\"]},\"title\":\"Bokeh Application\",\"version\":\"1.4.0\"}};\n  var render_items = [{\"docid\":\"c1e64274-dcc4-452a-9870-668c17087fd5\",\"roots\":{\"1102\":\"ebde21ed-9b8d-4d1d-9c9c-2724692b41e0\"}}];\n  root.Bokeh.embed.embed_items_notebook(docs_json, render_items);\n\n  }\n  if (root.Bokeh !== undefined) {\n    embed_document(root);\n  } else {\n    var attempts = 0;\n    var timer = setInterval(function(root) {\n      if (root.Bokeh !== undefined) {\n        clearInterval(timer);\n        embed_document(root);\n      } else {\n        attempts++;\n        if (attempts > 100) {\n          clearInterval(timer);\n          console.log(\"Bokeh: ERROR: Unable to run BokehJS code because BokehJS library is missing\");\n        }\n      }\n    }, 10, root)\n  }\n})(window);",
            "application/vnd.bokehjs_exec.v0+json": ""
          },
          "metadata": {
            "application/vnd.bokehjs_exec.v0+json": {
              "id": "1102"
            }
          },
          "output_type": "display_data"
        }
      ],
      "source": "from bokeh.io import show, output_notebook\r\n\r\nfrom bokeh.plotting import figure\r\nfrom bokeh.palettes import Spectral3\r\nfrom bokeh.transform import factor_cmap\r\nfrom bokeh.models import ColumnDataSource, FactorRange\r\n\r\n\r\n# Get the top 10 items as an array\r\ntop_10_items = df_cosmos[df_cosmos['Action']=='Purchased'].groupby('Item').size().sort_values(ascending=False)[:10].index.values.tolist()\r\n\r\n# Filter our data to only these 10 items\r\ndf_top10 = df_cosmos[df_cosmos['Item'].isin(top_10_items)]\r\n\r\n# Group by Item and Action, sorting by event count\r\ndf_top10_sorted = df_top10.groupby(['Item', 'Action']).count().rename(columns={'Country':'ResultCount'}, inplace=False).reset_index().sort_values(['Item', 'ResultCount'], ascending = False).set_index(['Item', 'Action'])\r\n\r\n# Get sorted X-axis values - this way, we can display the funnel of view -> add -> purchase\r\nx_axis_values = df_top10_sorted.index.values.tolist()\r\n\r\ngroup = df_top10_sorted.groupby(['Item', 'Action'])\r\n\r\n# Specifiy colors for X axis\r\nindex_cmap = factor_cmap('Item_Action', palette=Spectral3, factors=sorted(df_top10.Action.unique()), start=1, end=2)\r\n\r\n# Create the plot\r\n\r\np = figure(plot_width=1200, plot_height=500, title=\"Conversion rate of items from View -> Add to cart -> Purchase\", x_range=FactorRange(*x_axis_values), toolbar_location=None, tooltips=[(\"Number of events\", \"@ResultCount_max\"), (\"Item, Action\", \"@Item_Action\")])\r\n\r\np.vbar(x='Item_Action', top='ItemRevenue_max', width=1, source=group,\r\n       line_color=\"white\", fill_color=index_cmap, )\r\n\r\n#Configure how the plot looks\r\np.y_range.start = 0\r\np.x_range.range_padding = 0.05\r\np.xgrid.grid_line_color = None\r\np.xaxis.major_label_orientation = 1.2\r\np.outline_line_color = \"black\"\r\np.xaxis.axis_label = \"Item\"\r\np.yaxis.axis_label = \"Count\"\r\n\r\n#Display figure inline in Jupyter Notebook.\r\noutput_notebook()\r\n\r\n#Display figure.\r\nshow(p)\r\n"
    },
    {
      "cell_type": "code",
      "execution_count": null,
      "id": "0a392358-500a-4a36-93e6-f0b376c39103",
      "metadata": {
        "collapsed": true,
        "jupyter": {
          "outputs_hidden": false,
          "source_hidden": false
        },
        "nteract": {
          "transient": {
            "deleting": false
          }
        },
        "trusted": true
      },
      "outputs": [],
      "source": ""
    }
  ],
  "metadata": {
    "language_info": {
      "file_extension": "ipynb",
      "mimetype": "application/json",
      "name": "python",
      "version": "3.7"
    },
    "nteract": {
      "version": "dataExplorer 1.0"
    }
  },
  "nbformat": 4,
  "nbformat_minor": 5
}